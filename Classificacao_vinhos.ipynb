{
 "cells": [
  {
   "cell_type": "code",
   "execution_count": null,
   "metadata": {},
   "outputs": [],
   "source": [
    "# !pip install imblearn\n",
    "# !pip install seaborn\n",
    "# !pip install joblib"
   ]
  },
  {
   "cell_type": "code",
   "execution_count": 1,
   "metadata": {},
   "outputs": [],
   "source": [
    "import pandas as pd\n",
    "import numpy as np\n",
    "import warnings\n",
    "\n",
    "import sklearn.feature_extraction\n",
    "\n",
    "from sklearn.model_selection import cross_val_score\n",
    "from sklearn.model_selection import train_test_split\n",
    "import matplotlib.pyplot as plt\n",
    "from sklearn.metrics import confusion_matrix\n",
    "from sklearn.metrics import accuracy_score\n",
    "from sklearn import preprocessing\n",
    "from sklearn import metrics\n",
    "from imblearn.over_sampling import SMOTE\n",
    "import joblib\n",
    "\n",
    "from sklearn.naive_bayes import MultinomialNB\n",
    "from sklearn.linear_model import LogisticRegression\n",
    "from sklearn.ensemble import RandomForestClassifier\n",
    "from sklearn.linear_model import SGDClassifier\n",
    "from sklearn.svm import SVC\n",
    "from sklearn.pipeline import Pipeline\n",
    "from sklearn.naive_bayes import GaussianNB,BernoulliNB,MultinomialNB\n",
    "from sklearn.neighbors import KNeighborsClassifier\n",
    "from sklearn.tree import DecisionTreeClassifier\n",
    "from sklearn.ensemble import ExtraTreesClassifier\n",
    "from sklearn.ensemble import AdaBoostClassifier\n",
    "from sklearn.ensemble import GradientBoostingClassifier,BaggingClassifier\n",
    "\n"
   ]
  },
  {
   "cell_type": "code",
   "execution_count": 2,
   "metadata": {},
   "outputs": [],
   "source": [
    "warnings.filterwarnings('ignore')\n",
    "\n",
    "%matplotlib inline\n"
   ]
  },
  {
   "cell_type": "code",
   "execution_count": 3,
   "metadata": {},
   "outputs": [],
   "source": [
    "global plotAu, grid_vc, plotCm\n",
    "plotAuc = False\n",
    "grid_vc = False\n",
    "plotCm  = False\n",
    "feat_import = False"
   ]
  },
  {
   "cell_type": "code",
   "execution_count": 4,
   "metadata": {},
   "outputs": [],
   "source": [
    "##### FUNCTIONS #####\n",
    "\n",
    "## função para plotar matriz de confusão\n",
    "def plot_cm(cm, labels):\n",
    "    \n",
    "    # calcula porcentagens \n",
    "    percent = (cm*100.0)/np.array(np.matrix(cm.sum(axis=1)).T)\n",
    "    \n",
    "    print('Confusion Matrix Stats')\n",
    "    for i, label_i in enumerate(labels):\n",
    "        for j, label_j in enumerate(labels):\n",
    "            print(\"%s/%s: %.2f%% (%d/%d)\" % (label_i, label_j, (percent[i][j]), cm[i][j], cm[i].sum()) )\n",
    "\n",
    "    # Show confusion matrix\n",
    "    fig = plt.figure()\n",
    "    ax = fig.add_subplot(111)\n",
    "    ax.grid(b=False)\n",
    "    cax = ax.matshow(percent, cmap='coolwarm')\n",
    "    plt.title('Confusion matrix of the classifier')\n",
    "    fig.colorbar(cax)\n",
    "    ax.set_xticklabels([''] + labels)\n",
    "    ax.set_yticklabels([''] + labels)\n",
    "    plt.xlabel('Predicted')\n",
    "    plt.ylabel('True')\n",
    "    plt.show()\n",
    "    \n",
    "## função para plotar AUC Curve \n",
    "def plot_auc_curve(clf, X_test, y_test):\n",
    "    y_pred_proba = clf.predict_proba(X_test)[::,1]\n",
    "    fpr, tpr, _  = sklearn.metrics.roc_curve(y_test,  y_pred_proba)\n",
    "    auc          = sklearn.metrics.roc_auc_score(y_test, y_pred_proba)\n",
    "\n",
    "    plt.plot(fpr,tpr,label=\"data 1, auc=\"+str(auc))\n",
    "    plt.legend(loc=4)\n",
    "    plt.show()\n",
    "\n",
    "## função para executar modelos de ML\n",
    "def run_ml(modelos, X_train,X_test,y_train,y_test):\n",
    "    \n",
    "    for m in modelos:\n",
    "        print(\"\\n==>\",m.__class__.__name__)\n",
    "        clf = Pipeline([('clf', m )])\n",
    "\n",
    "        clf       = clf.fit(np.asarray(X_train), y_train)\n",
    "        predicted = clf.predict(np.asarray(X_test))\n",
    "        print(\"  Accuracy  = %f \\n\" % accuracy_score(y_test, predicted))\n",
    "        \n",
    "        labels = list(np.unique(y_train)) #[0,1]\n",
    "        cm     = confusion_matrix(y_test, predicted,labels=labels)\n",
    "        \n",
    "        if plotCm:\n",
    "            plot_cm(cm,labels)\n",
    "\n",
    "        if hasattr(clf, 'predict_proba') and plotAuc:\n",
    "            plot_auc_curve(clf, X_test, y_test)\n",
    "\n",
    "    print(\"================================================================================================\")\n",
    "\n",
    "    ##  CHECKING FEATURES IMPORTANCES \n",
    "    if feat_import:\n",
    "        for m in modelos:\n",
    "            print(\"\\n==>\",m.__class__.__name__)\n",
    "            cols = X_train.columns\n",
    "            m.fit(np.asarray(X_train),y_train)\n",
    "\n",
    "            if hasattr(m, 'feature_importances_'):\n",
    "                x_labels = X_train.columns[:]\n",
    "                prob     = list()        \n",
    "                cols     = list()        \n",
    "                features = m.feature_importances_\n",
    "                for i,l in zip(x_labels,features):\n",
    "                    if l*100 > int( np.mean(features)*100 ):\n",
    "                        cols.append(i)\n",
    "                print(\"  Cols: \", cols)\n",
    "\n",
    "            clf  = m.fit(np.asarray(X_train.loc[:,cols]), y_train)\n",
    "            predicted = clf.predict(np.asarray(X_test.loc[:,cols]))\n",
    "\n",
    "            print(\"  Accuracy  = %f \\n\" % accuracy_score(y_test, predicted))\n",
    "            labels = list(np.unique(y_train)) #[0,1]\n",
    "            cm     = confusion_matrix(y_test, predicted,labels=labels)    \n",
    "\n",
    "            if plotCm:\n",
    "                plot_cm(cm,labels)\n",
    "\n",
    "            if hasattr(clf, 'predict_proba') and plotAuc:\n",
    "                plot_auc_curve(clf, X_test.loc[:,cols], y_test)\n",
    "\n"
   ]
  },
  {
   "cell_type": "code",
   "execution_count": 5,
   "metadata": {},
   "outputs": [],
   "source": [
    "dados = pd.read_csv(\"winequality.csv\", sep = ';')"
   ]
  },
  {
   "cell_type": "code",
   "execution_count": 6,
   "metadata": {
    "scrolled": true
   },
   "outputs": [
    {
     "name": "stdout",
     "output_type": "stream",
     "text": [
      "<class 'pandas.core.frame.DataFrame'>\n",
      "RangeIndex: 6497 entries, 0 to 6496\n",
      "Data columns (total 13 columns):\n",
      "type                    6497 non-null object\n",
      "fixed acidity           6497 non-null float64\n",
      "volatile acidity        6497 non-null float64\n",
      "citric acid             6497 non-null float64\n",
      "residual sugar          6497 non-null float64\n",
      "chlorides               6497 non-null float64\n",
      "free sulfur dioxide     6497 non-null float64\n",
      "total sulfur dioxide    6497 non-null float64\n",
      "density                 6497 non-null float64\n",
      "pH                      6497 non-null float64\n",
      "sulphates               6497 non-null float64\n",
      "alcohol                 6497 non-null object\n",
      "quality                 6497 non-null int64\n",
      "dtypes: float64(10), int64(1), object(2)\n",
      "memory usage: 659.9+ KB\n"
     ]
    }
   ],
   "source": [
    "dados.info()"
   ]
  },
  {
   "cell_type": "code",
   "execution_count": 7,
   "metadata": {},
   "outputs": [],
   "source": [
    "dados.columns = ['type', 'fixed_acidity', 'volatile_acidity', 'citric_acid','residual_sugar',\n",
    "                 'chlorides', 'free_sulfur_dioxide','total_sulfur_dioxide', 'density', 'pH',\n",
    "                 'sulphates', 'alcohol','quality']"
   ]
  },
  {
   "cell_type": "code",
   "execution_count": 8,
   "metadata": {},
   "outputs": [
    {
     "data": {
      "text/plain": [
       "False"
      ]
     },
     "execution_count": 8,
     "metadata": {},
     "output_type": "execute_result"
    }
   ],
   "source": [
    "dados.isnull().values.any()"
   ]
  },
  {
   "cell_type": "code",
   "execution_count": null,
   "metadata": {
    "scrolled": true
   },
   "outputs": [],
   "source": []
  },
  {
   "cell_type": "code",
   "execution_count": 9,
   "metadata": {
    "scrolled": true
   },
   "outputs": [],
   "source": [
    "## identificando registros inconsistentes na coluna alcohol\n",
    "lista = list()\n",
    "for i,a in dados.iterrows():\n",
    "    if len(a[\"alcohol\"]) > 5:\n",
    "        #print(i,a[\"alcohol\"])\n",
    "        lista.append(i)"
   ]
  },
  {
   "cell_type": "code",
   "execution_count": null,
   "metadata": {},
   "outputs": [],
   "source": []
  },
  {
   "cell_type": "code",
   "execution_count": 10,
   "metadata": {
    "scrolled": true
   },
   "outputs": [],
   "source": [
    "indices  = dados.loc[lista,\"quality\"].value_counts().index#.plot(kind = 'bar')"
   ]
  },
  {
   "cell_type": "code",
   "execution_count": 11,
   "metadata": {},
   "outputs": [],
   "source": [
    "dados_clean = dados.iloc[~dados.index.isin(lista),:]\n",
    "dados_clean.alcohol = pd.to_numeric(dados_clean.alcohol)"
   ]
  },
  {
   "cell_type": "code",
   "execution_count": 12,
   "metadata": {},
   "outputs": [],
   "source": [
    "## SUBSTITUINDO VALORES INCORRETOS NA COLUNA alcohol\n",
    "for i in indices:\n",
    "    media = dados_clean.loc[dados_clean.quality == i,'alcohol'].mean()\n",
    "    dados.loc[(dados.quality == i) & (dados.index.isin(lista)),'alcohol'] = media\n",
    "    \n",
    "## CONVERTENDO COLUNA PARA TIPO NUMERICO\n",
    "dados.alcohol = pd.to_numeric(dados.alcohol)"
   ]
  },
  {
   "cell_type": "code",
   "execution_count": null,
   "metadata": {
    "scrolled": true
   },
   "outputs": [],
   "source": []
  },
  {
   "cell_type": "code",
   "execution_count": 13,
   "metadata": {},
   "outputs": [],
   "source": [
    "## CONVERTENDO COLUNA PARA TIPO NUMERICO\n",
    "label_type    = preprocessing.LabelEncoder()\n",
    "dados[\"type\"] = label_type.fit_transform(dados.type)"
   ]
  },
  {
   "cell_type": "code",
   "execution_count": 14,
   "metadata": {},
   "outputs": [
    {
     "data": {
      "text/html": [
       "<div>\n",
       "<style scoped>\n",
       "    .dataframe tbody tr th:only-of-type {\n",
       "        vertical-align: middle;\n",
       "    }\n",
       "\n",
       "    .dataframe tbody tr th {\n",
       "        vertical-align: top;\n",
       "    }\n",
       "\n",
       "    .dataframe thead th {\n",
       "        text-align: right;\n",
       "    }\n",
       "</style>\n",
       "<table border=\"1\" class=\"dataframe\">\n",
       "  <thead>\n",
       "    <tr style=\"text-align: right;\">\n",
       "      <th></th>\n",
       "      <th>type</th>\n",
       "      <th>fixed_acidity</th>\n",
       "      <th>volatile_acidity</th>\n",
       "      <th>citric_acid</th>\n",
       "      <th>residual_sugar</th>\n",
       "      <th>chlorides</th>\n",
       "      <th>free_sulfur_dioxide</th>\n",
       "      <th>total_sulfur_dioxide</th>\n",
       "      <th>density</th>\n",
       "      <th>pH</th>\n",
       "      <th>sulphates</th>\n",
       "      <th>alcohol</th>\n",
       "    </tr>\n",
       "  </thead>\n",
       "  <tbody>\n",
       "    <tr>\n",
       "      <th>0</th>\n",
       "      <td>1</td>\n",
       "      <td>7.0</td>\n",
       "      <td>0.27</td>\n",
       "      <td>0.36</td>\n",
       "      <td>20.7</td>\n",
       "      <td>0.045</td>\n",
       "      <td>45.0</td>\n",
       "      <td>170.0</td>\n",
       "      <td>1.0010</td>\n",
       "      <td>3.00</td>\n",
       "      <td>0.45</td>\n",
       "      <td>8.8</td>\n",
       "    </tr>\n",
       "    <tr>\n",
       "      <th>1</th>\n",
       "      <td>1</td>\n",
       "      <td>6.3</td>\n",
       "      <td>0.30</td>\n",
       "      <td>0.34</td>\n",
       "      <td>1.6</td>\n",
       "      <td>0.049</td>\n",
       "      <td>14.0</td>\n",
       "      <td>132.0</td>\n",
       "      <td>0.9940</td>\n",
       "      <td>3.30</td>\n",
       "      <td>0.49</td>\n",
       "      <td>9.5</td>\n",
       "    </tr>\n",
       "    <tr>\n",
       "      <th>2</th>\n",
       "      <td>1</td>\n",
       "      <td>8.1</td>\n",
       "      <td>0.28</td>\n",
       "      <td>0.40</td>\n",
       "      <td>6.9</td>\n",
       "      <td>0.050</td>\n",
       "      <td>30.0</td>\n",
       "      <td>97.0</td>\n",
       "      <td>0.9951</td>\n",
       "      <td>3.26</td>\n",
       "      <td>0.44</td>\n",
       "      <td>10.1</td>\n",
       "    </tr>\n",
       "    <tr>\n",
       "      <th>3</th>\n",
       "      <td>1</td>\n",
       "      <td>7.2</td>\n",
       "      <td>0.23</td>\n",
       "      <td>0.32</td>\n",
       "      <td>8.5</td>\n",
       "      <td>0.058</td>\n",
       "      <td>47.0</td>\n",
       "      <td>186.0</td>\n",
       "      <td>0.9956</td>\n",
       "      <td>3.19</td>\n",
       "      <td>0.40</td>\n",
       "      <td>9.9</td>\n",
       "    </tr>\n",
       "    <tr>\n",
       "      <th>4</th>\n",
       "      <td>1</td>\n",
       "      <td>7.2</td>\n",
       "      <td>0.23</td>\n",
       "      <td>0.32</td>\n",
       "      <td>8.5</td>\n",
       "      <td>0.058</td>\n",
       "      <td>47.0</td>\n",
       "      <td>186.0</td>\n",
       "      <td>0.9956</td>\n",
       "      <td>3.19</td>\n",
       "      <td>0.40</td>\n",
       "      <td>9.9</td>\n",
       "    </tr>\n",
       "  </tbody>\n",
       "</table>\n",
       "</div>"
      ],
      "text/plain": [
       "   type  fixed_acidity  volatile_acidity  citric_acid  residual_sugar  \\\n",
       "0     1            7.0              0.27         0.36            20.7   \n",
       "1     1            6.3              0.30         0.34             1.6   \n",
       "2     1            8.1              0.28         0.40             6.9   \n",
       "3     1            7.2              0.23         0.32             8.5   \n",
       "4     1            7.2              0.23         0.32             8.5   \n",
       "\n",
       "   chlorides  free_sulfur_dioxide  total_sulfur_dioxide  density    pH  \\\n",
       "0      0.045                 45.0                 170.0   1.0010  3.00   \n",
       "1      0.049                 14.0                 132.0   0.9940  3.30   \n",
       "2      0.050                 30.0                  97.0   0.9951  3.26   \n",
       "3      0.058                 47.0                 186.0   0.9956  3.19   \n",
       "4      0.058                 47.0                 186.0   0.9956  3.19   \n",
       "\n",
       "   sulphates  alcohol  \n",
       "0       0.45      8.8  \n",
       "1       0.49      9.5  \n",
       "2       0.44     10.1  \n",
       "3       0.40      9.9  \n",
       "4       0.40      9.9  "
      ]
     },
     "execution_count": 14,
     "metadata": {},
     "output_type": "execute_result"
    }
   ],
   "source": [
    "## DIVIDINDO OS DADOS SEM O ATRIBUTO TARGET(QUALITY) \n",
    "x = dados.iloc[:,:-1]\n",
    "x.head()\n"
   ]
  },
  {
   "cell_type": "code",
   "execution_count": 15,
   "metadata": {},
   "outputs": [
    {
     "data": {
      "image/png": "[encoded data removed]",
      "text/plain": [
       "<Figure size 1080x1080 with 12 Axes>"
      ]
     },
     "metadata": {
      "needs_background": "light"
     },
     "output_type": "display_data"
    }
   ],
   "source": [
    "x.iloc[:,:].hist(figsize=(15,15))\n",
    "plt.show()"
   ]
  },
  {
   "cell_type": "code",
   "execution_count": null,
   "metadata": {},
   "outputs": [],
   "source": []
  },
  {
   "cell_type": "code",
   "execution_count": 16,
   "metadata": {},
   "outputs": [
    {
     "data": {
      "image/png": "[encoded data removed]",
      "text/plain": [
       "<Figure size 1080x1080 with 12 Axes>"
      ]
     },
     "metadata": {
      "needs_background": "light"
     },
     "output_type": "display_data"
    }
   ],
   "source": [
    "## NORMALIZANDO OS DADOS\n",
    "x_norm = preprocessing.scale(x)\n",
    "x_norm = pd.DataFrame(x_norm, columns=x.columns)\n",
    "\n",
    "x_norm.iloc[:,:].hist(figsize=(15,15))\n",
    "plt.show()"
   ]
  },
  {
   "cell_type": "code",
   "execution_count": null,
   "metadata": {},
   "outputs": [],
   "source": []
  },
  {
   "cell_type": "code",
   "execution_count": 17,
   "metadata": {},
   "outputs": [
    {
     "data": {
      "image/png": "[encoded data removed]",
      "text/plain": [
       "<Figure size 864x720 with 2 Axes>"
      ]
     },
     "metadata": {
      "needs_background": "light"
     },
     "output_type": "display_data"
    }
   ],
   "source": [
    "## VERIFICANDO A CORRELAÇÃO ENTRE OS ATRIBUTOS\n",
    "import seaborn as sns\n",
    "corr = dados.corr()\n",
    "_ , ax = plt.subplots( figsize =( 12 , 10 ) )\n",
    "\n",
    "cmap = sns.diverging_palette( 220 , 10 , as_cmap = True )\n",
    "_ = sns.heatmap(corr, cmap = cmap, square=True, cbar_kws={ 'shrink' : .9 }, ax=ax, annot = True, annot_kws = {'fontsize' : 12 })\n",
    "\n"
   ]
  },
  {
   "cell_type": "code",
   "execution_count": 18,
   "metadata": {},
   "outputs": [],
   "source": [
    "# type - total_sulfur_dioxide\n",
    "# free sulfur - total sulfur dioxide\n"
   ]
  },
  {
   "cell_type": "markdown",
   "metadata": {},
   "source": [
    "# <font color = 'red'> 1 - MODELOS COM 3 CLASSES </font>"
   ]
  },
  {
   "cell_type": "code",
   "execution_count": 19,
   "metadata": {},
   "outputs": [],
   "source": [
    "## MODELOS UTILIZADOS PARA 3 CLASSES\n",
    "\n",
    "modelos = [ SVC(),#C= 10, gamma= 0.001, kernel= 'linear', probability= False),\n",
    "            RandomForestClassifier(),#criterion='entropy', max_depth= None, max_features='sqrt',n_estimators= 10000),\n",
    "            LogisticRegression(),#solver='lbfgs',multi_class='multinomial',class_weight='balanced',random_state=0),\n",
    "            KNeighborsClassifier(),#n_neighbors=11),\n",
    "            ]\n"
   ]
  },
  {
   "cell_type": "code",
   "execution_count": 20,
   "metadata": {},
   "outputs": [],
   "source": [
    "#DEFININDO 3 DIVISOES DE QUALIDADE: 1–4 RUIM, 5–6 BOM, 7–10 ÓTIMO\n",
    "bins = [1,4,6,10]\n",
    "\n",
    "#DEFININDO CLASSES PARA QUALIDADE: 0-RUIM, 1-BOM, 2-ÓTIMO\n",
    "quality_labels=[0,1,2]\n",
    "\n",
    "y = pd.cut(dados['quality'], bins=bins, labels=quality_labels, include_lowest=True)"
   ]
  },
  {
   "cell_type": "code",
   "execution_count": null,
   "metadata": {},
   "outputs": [],
   "source": []
  },
  {
   "cell_type": "code",
   "execution_count": null,
   "metadata": {},
   "outputs": [],
   "source": []
  },
  {
   "cell_type": "code",
   "execution_count": 21,
   "metadata": {
    "scrolled": true
   },
   "outputs": [
    {
     "name": "stdout",
     "output_type": "stream",
     "text": [
      "\n",
      "==> SVC\n",
      "  Accuracy  = 0.782308 \n",
      "\n",
      "\n",
      "==> RandomForestClassifier\n",
      "  Accuracy  = 0.826154 \n",
      "\n",
      "\n",
      "==> LogisticRegression\n",
      "  Accuracy  = 0.773077 \n",
      "\n",
      "\n",
      "==> KNeighborsClassifier\n",
      "  Accuracy  = 0.753846 \n",
      "\n",
      "================================================================================================\n",
      "\n",
      "==> SVC\n",
      "  Accuracy  = 0.782308 \n",
      "\n",
      "\n",
      "==> RandomForestClassifier\n",
      "  Cols:  ['volatile_acidity', 'residual_sugar', 'chlorides', 'total_sulfur_dioxide', 'density', 'pH', 'sulphates', 'alcohol']\n",
      "  Accuracy  = 0.825385 \n",
      "\n",
      "\n",
      "==> LogisticRegression\n",
      "  Accuracy  = 0.773077 \n",
      "\n",
      "\n",
      "==> KNeighborsClassifier\n",
      "  Accuracy  = 0.753846 \n",
      "\n"
     ]
    }
   ],
   "source": [
    "x_train, x_test, y_train, y_test = train_test_split(x, y,test_size=0.20, random_state=4)\n",
    "\n",
    "feat_import = True\n",
    "run_ml(modelos, x_train,x_test,y_train,y_test)\n"
   ]
  },
  {
   "cell_type": "code",
   "execution_count": null,
   "metadata": {
    "scrolled": true
   },
   "outputs": [],
   "source": []
  },
  {
   "cell_type": "code",
   "execution_count": 22,
   "metadata": {
    "scrolled": true
   },
   "outputs": [
    {
     "name": "stdout",
     "output_type": "stream",
     "text": [
      "\n",
      "==> SVC\n",
      "  Accuracy  = 0.782308 \n",
      "\n",
      "\n",
      "==> RandomForestClassifier\n",
      "  Accuracy  = 0.828462 \n",
      "\n",
      "\n",
      "==> LogisticRegression\n",
      "  Accuracy  = 0.771538 \n",
      "\n",
      "\n",
      "==> KNeighborsClassifier\n",
      "  Accuracy  = 0.753846 \n",
      "\n",
      "================================================================================================\n",
      "\n",
      "==> SVC\n",
      "  Accuracy  = 0.782308 \n",
      "\n",
      "\n",
      "==> RandomForestClassifier\n",
      "  Cols:  ['residual_sugar', 'density', 'alcohol']\n",
      "  Accuracy  = 0.800769 \n",
      "\n",
      "\n",
      "==> LogisticRegression\n",
      "  Accuracy  = 0.771538 \n",
      "\n",
      "\n",
      "==> KNeighborsClassifier\n",
      "  Accuracy  = 0.753846 \n",
      "\n"
     ]
    }
   ],
   "source": [
    "### SEM A COLUNA TYPE\n",
    "feat_import = True\n",
    "run_ml(modelos, x_train.iloc[:,1:],x_test.iloc[:,1:],y_train,y_test)\n"
   ]
  },
  {
   "cell_type": "code",
   "execution_count": null,
   "metadata": {},
   "outputs": [],
   "source": []
  },
  {
   "cell_type": "markdown",
   "metadata": {},
   "source": [
    "### <font color = 'red'>  1.1 - MODELOS COM DADOS BALANCEADOS </font>"
   ]
  },
  {
   "cell_type": "code",
   "execution_count": 23,
   "metadata": {},
   "outputs": [],
   "source": [
    "warnings.filterwarnings('ignore')\n"
   ]
  },
  {
   "cell_type": "code",
   "execution_count": 24,
   "metadata": {
    "scrolled": true
   },
   "outputs": [],
   "source": [
    "data_o, target_o = SMOTE().fit_sample(x,y)\n",
    "\n",
    "data_o   = pd.DataFrame(data_o, columns= x.columns)\n",
    "target_o = pd.DataFrame(target_o, columns= dados_clean.iloc[:,-1:].columns)\n"
   ]
  },
  {
   "cell_type": "code",
   "execution_count": 25,
   "metadata": {
    "scrolled": true
   },
   "outputs": [
    {
     "name": "stdout",
     "output_type": "stream",
     "text": [
      "\n",
      "==> SVC\n",
      "  Accuracy  = 0.865997 \n",
      "\n",
      "\n",
      "==> RandomForestClassifier\n",
      "  Accuracy  = 0.903853 \n",
      "\n",
      "\n",
      "==> LogisticRegression\n",
      "  Accuracy  = 0.655276 \n",
      "\n",
      "\n",
      "==> KNeighborsClassifier\n",
      "  Accuracy  = 0.825126 \n",
      "\n",
      "================================================================================================\n",
      "\n",
      "==> SVC\n",
      "  Accuracy  = 0.865997 \n",
      "\n",
      "\n",
      "==> RandomForestClassifier\n",
      "  Cols:  ['volatile_acidity', 'chlorides', 'free_sulfur_dioxide', 'total_sulfur_dioxide', 'density', 'sulphates', 'alcohol']\n",
      "  Accuracy  = 0.890117 \n",
      "\n",
      "\n",
      "==> LogisticRegression\n",
      "  Accuracy  = 0.655276 \n",
      "\n",
      "\n",
      "==> KNeighborsClassifier\n",
      "  Accuracy  = 0.825126 \n",
      "\n"
     ]
    }
   ],
   "source": [
    "x_train_balanc, x_test_balanc, y_train_balanc, y_test_balanc = train_test_split(data_o,\n",
    "                                                                                target_o, \n",
    "                                                    test_size=0.20, random_state=4)\n",
    "\n",
    "feat_import = True\n",
    "run_ml(modelos, x_train_balanc,x_test_balanc,y_train_balanc,y_test_balanc)\n"
   ]
  },
  {
   "cell_type": "code",
   "execution_count": 26,
   "metadata": {
    "scrolled": true
   },
   "outputs": [
    {
     "name": "stdout",
     "output_type": "stream",
     "text": [
      "\n",
      "==> SVC\n",
      "  Accuracy  = 0.869012 \n",
      "\n",
      "\n",
      "==> RandomForestClassifier\n",
      "  Accuracy  = 0.903183 \n",
      "\n",
      "\n",
      "==> LogisticRegression\n",
      "  Accuracy  = 0.622111 \n",
      "\n",
      "\n",
      "==> KNeighborsClassifier\n",
      "  Accuracy  = 0.824791 \n",
      "\n",
      "================================================================================================\n",
      "\n",
      "==> SVC\n",
      "  Accuracy  = 0.869012 \n",
      "\n",
      "\n",
      "==> RandomForestClassifier\n",
      "  Cols:  ['volatile_acidity', 'free_sulfur_dioxide', 'total_sulfur_dioxide', 'alcohol']\n",
      "  Accuracy  = 0.881742 \n",
      "\n",
      "\n",
      "==> LogisticRegression\n",
      "  Accuracy  = 0.622111 \n",
      "\n",
      "\n",
      "==> KNeighborsClassifier\n",
      "  Accuracy  = 0.824791 \n",
      "\n"
     ]
    }
   ],
   "source": [
    "## MODELO SEM COLUNA TYPE\n",
    "feat_import = True\n",
    "run_ml(modelos, x_train_balanc.iloc[:,1:],x_test_balanc.iloc[:,1:],y_train_balanc,y_test_balanc)\n"
   ]
  },
  {
   "cell_type": "code",
   "execution_count": null,
   "metadata": {},
   "outputs": [],
   "source": []
  },
  {
   "cell_type": "markdown",
   "metadata": {},
   "source": [
    "### <font color = 'red'>  1.2 - MODELOS (3 CLASSES) COM DADOS NORMALIZADOS </font>\n"
   ]
  },
  {
   "cell_type": "code",
   "execution_count": 27,
   "metadata": {
    "scrolled": true
   },
   "outputs": [
    {
     "name": "stdout",
     "output_type": "stream",
     "text": [
      "\n",
      "==> SVC\n",
      "  Accuracy  = 0.787692 \n",
      "\n",
      "\n",
      "==> RandomForestClassifier\n",
      "  Accuracy  = 0.823077 \n",
      "\n",
      "\n",
      "==> LogisticRegression\n",
      "  Accuracy  = 0.780000 \n",
      "\n",
      "\n",
      "==> KNeighborsClassifier\n",
      "  Accuracy  = 0.799231 \n",
      "\n",
      "================================================================================================\n",
      "\n",
      "==> SVC\n",
      "  Accuracy  = 0.787692 \n",
      "\n",
      "\n",
      "==> RandomForestClassifier\n",
      "  Cols:  ['volatile_acidity', 'residual_sugar', 'chlorides', 'free_sulfur_dioxide', 'total_sulfur_dioxide', 'density', 'pH', 'sulphates', 'alcohol']\n",
      "  Accuracy  = 0.826923 \n",
      "\n",
      "\n",
      "==> LogisticRegression\n",
      "  Accuracy  = 0.780000 \n",
      "\n",
      "\n",
      "==> KNeighborsClassifier\n",
      "  Accuracy  = 0.799231 \n",
      "\n"
     ]
    }
   ],
   "source": [
    "x_train_norm, x_test_norm, y_train_norm, y_test_norm = train_test_split(x_norm, y,\n",
    "                                                                        test_size=0.20, random_state=4)\n",
    "\n",
    "feat_import = True\n",
    "run_ml(modelos, x_train_norm,x_test_norm,y_train_norm,y_test_norm)\n"
   ]
  },
  {
   "cell_type": "code",
   "execution_count": null,
   "metadata": {
    "scrolled": true
   },
   "outputs": [],
   "source": []
  },
  {
   "cell_type": "markdown",
   "metadata": {},
   "source": [
    "### <font color = 'red'>  1.3 - MODELOS (3 CLASSES) COM DADOS NORMALIZADOS E BALANCEADOS </font>\n"
   ]
  },
  {
   "cell_type": "code",
   "execution_count": 28,
   "metadata": {
    "scrolled": true
   },
   "outputs": [
    {
     "name": "stdout",
     "output_type": "stream",
     "text": [
      "\n",
      "==> SVC\n",
      "  Accuracy  = 0.789280 \n",
      "\n",
      "\n",
      "==> RandomForestClassifier\n",
      "  Accuracy  = 0.913568 \n",
      "\n",
      "\n",
      "==> LogisticRegression\n",
      "  Accuracy  = 0.648241 \n",
      "\n",
      "\n",
      "==> KNeighborsClassifier\n",
      "  Accuracy  = 0.870017 \n",
      "\n",
      "================================================================================================\n",
      "\n",
      "==> SVC\n",
      "  Accuracy  = 0.789280 \n",
      "\n",
      "\n",
      "==> RandomForestClassifier\n",
      "  Cols:  ['volatile_acidity', 'citric_acid', 'chlorides', 'free_sulfur_dioxide', 'total_sulfur_dioxide', 'sulphates', 'alcohol']\n",
      "  Accuracy  = 0.896482 \n",
      "\n",
      "\n",
      "==> LogisticRegression\n",
      "  Accuracy  = 0.648241 \n",
      "\n",
      "\n",
      "==> KNeighborsClassifier\n",
      "  Accuracy  = 0.870017 \n",
      "\n"
     ]
    }
   ],
   "source": [
    "data_o_norm, target_o_norm = SMOTE().fit_sample(x_norm,y)\n",
    "\n",
    "data_o_norm   = pd.DataFrame(data_o_norm, columns= x.columns)\n",
    "target_o_norm = pd.DataFrame(target_o_norm, columns= dados_clean.iloc[:,-1:].columns)\n",
    "\n",
    "x_train_norm_balanc, x_test_norm_balanc, \\\n",
    "y_train_norm_balanc, y_test_norm_balanc = train_test_split(data_o_norm, target_o_norm, \n",
    "                                                    test_size=0.20, random_state=4)\n",
    "\n",
    "feat_import = True\n",
    "run_ml(modelos,x_train_norm_balanc,x_test_norm_balanc,y_train_norm_balanc,y_test_norm_balanc)\n"
   ]
  },
  {
   "cell_type": "code",
   "execution_count": null,
   "metadata": {
    "scrolled": true
   },
   "outputs": [],
   "source": []
  },
  {
   "cell_type": "markdown",
   "metadata": {},
   "source": [
    "# <font color = 'red'> 2 - MODELOS COM 2 CLASSES </font>"
   ]
  },
  {
   "cell_type": "code",
   "execution_count": 29,
   "metadata": {},
   "outputs": [],
   "source": [
    "## MODELOS UTILIZADOS PARA CLASSIFICAÇÃO EM 2 CLASSES (BINARIA)\n",
    "\n",
    "modelos_two = [ SVC(),#C= 10, gamma= 0.001, kernel= 'linear', probability= False),\n",
    "                RandomForestClassifier(),#criterion='entropy', max_depth= None, max_features='sqrt',n_estimators= 10000),\n",
    "                LogisticRegression(),#solver='lbfgs',multi_class='multinomial',class_weight='balanced',random_state=0),\n",
    "                DecisionTreeClassifier(),#max_depth=20, min_samples_split=50), #81.3%\n",
    "                ExtraTreesClassifier(),#n_estimators=10, max_depth=None,min_samples_split=2, random_state=0), #80.6%\n",
    "                GradientBoostingClassifier(),#n_estimators=1000, learning_rate=1.0,max_depth=1, random_state=0),\n",
    "                GaussianNB(),\n",
    "                BernoulliNB(),\n",
    "                KNeighborsClassifier(),#n_neighbors=11),\n",
    "                BaggingClassifier(),\n",
    "            ]"
   ]
  },
  {
   "cell_type": "code",
   "execution_count": 30,
   "metadata": {},
   "outputs": [],
   "source": [
    "x_two = x.copy()\n",
    "#x_two.head()"
   ]
  },
  {
   "cell_type": "code",
   "execution_count": null,
   "metadata": {
    "scrolled": true
   },
   "outputs": [],
   "source": []
  },
  {
   "cell_type": "code",
   "execution_count": 31,
   "metadata": {
    "scrolled": true
   },
   "outputs": [
    {
     "data": {
      "text/plain": [
       "<matplotlib.axes._subplots.AxesSubplot at 0x7f17456c2fd0>"
      ]
     },
     "execution_count": 31,
     "metadata": {},
     "output_type": "execute_result"
    },
    {
     "data": {
      "image/png": "[encoded data removed]",
      "text/plain": [
       "<Figure size 432x288 with 1 Axes>"
      ]
     },
     "metadata": {
      "needs_background": "light"
     },
     "output_type": "display_data"
    }
   ],
   "source": [
    "#DEFININDO 2 DIVISOES DE QUALIDADE: 1–7 RUIM, 7–10 ÓTIMO\n",
    "bins = [1, 7, 10]\n",
    "\n",
    "#DEFININDO CLASSES DE QUALIDADE: 0–RUIM, 1-ÓTIMO\n",
    "quality_labels=[0,1]\n",
    "\n",
    "y_two = pd.cut(dados['quality'], bins=bins, labels=quality_labels, include_lowest=True)\n",
    "y_two.hist()"
   ]
  },
  {
   "cell_type": "code",
   "execution_count": null,
   "metadata": {},
   "outputs": [],
   "source": []
  },
  {
   "cell_type": "code",
   "execution_count": 32,
   "metadata": {},
   "outputs": [],
   "source": [
    "x_train_two, x_test_two, y_train_two, y_test_two = train_test_split(x_two,y_two, test_size=0.20, random_state=4)"
   ]
  },
  {
   "cell_type": "code",
   "execution_count": 33,
   "metadata": {
    "scrolled": true
   },
   "outputs": [
    {
     "name": "stdout",
     "output_type": "stream",
     "text": [
      "\n",
      "==> SVC\n",
      "  Accuracy  = 0.968462 \n",
      "\n",
      "\n",
      "==> RandomForestClassifier\n",
      "  Accuracy  = 0.971538 \n",
      "\n",
      "\n",
      "==> LogisticRegression\n",
      "  Accuracy  = 0.966154 \n",
      "\n",
      "\n",
      "==> DecisionTreeClassifier\n",
      "  Accuracy  = 0.956923 \n",
      "\n",
      "\n",
      "==> ExtraTreesClassifier\n",
      "  Accuracy  = 0.973846 \n",
      "\n",
      "\n",
      "==> GradientBoostingClassifier\n",
      "  Accuracy  = 0.966923 \n",
      "\n",
      "\n",
      "==> GaussianNB\n",
      "  Accuracy  = 0.600000 \n",
      "\n",
      "\n",
      "==> BernoulliNB\n",
      "  Accuracy  = 0.966154 \n",
      "\n",
      "\n",
      "==> KNeighborsClassifier\n",
      "  Accuracy  = 0.963077 \n",
      "\n",
      "\n",
      "==> BaggingClassifier\n",
      "  Accuracy  = 0.968462 \n",
      "\n",
      "================================================================================================\n",
      "\n",
      "==> SVC\n",
      "  Accuracy  = 0.968462 \n",
      "\n",
      "\n",
      "==> RandomForestClassifier\n",
      "  Cols:  ['fixed_acidity', 'residual_sugar', 'free_sulfur_dioxide', 'total_sulfur_dioxide', 'density', 'pH', 'sulphates', 'alcohol']\n",
      "  Accuracy  = 0.969231 \n",
      "\n",
      "\n",
      "==> LogisticRegression\n",
      "  Accuracy  = 0.966154 \n",
      "\n",
      "\n",
      "==> DecisionTreeClassifier\n",
      "  Cols:  ['fixed_acidity', 'volatile_acidity', 'free_sulfur_dioxide', 'total_sulfur_dioxide', 'pH', 'sulphates', 'alcohol']\n",
      "  Accuracy  = 0.948462 \n",
      "\n",
      "\n",
      "==> ExtraTreesClassifier\n",
      "  Cols:  ['fixed_acidity', 'volatile_acidity', 'citric_acid', 'residual_sugar', 'chlorides', 'free_sulfur_dioxide', 'total_sulfur_dioxide', 'density', 'pH', 'sulphates', 'alcohol']\n",
      "  Accuracy  = 0.973077 \n",
      "\n",
      "\n",
      "==> GradientBoostingClassifier\n",
      "  Cols:  ['volatile_acidity', 'residual_sugar', 'density', 'pH', 'alcohol']\n",
      "  Accuracy  = 0.967692 \n",
      "\n",
      "\n",
      "==> GaussianNB\n",
      "  Accuracy  = 0.600000 \n",
      "\n",
      "\n",
      "==> BernoulliNB\n",
      "  Accuracy  = 0.966154 \n",
      "\n",
      "\n",
      "==> KNeighborsClassifier\n",
      "  Accuracy  = 0.963077 \n",
      "\n",
      "\n",
      "==> BaggingClassifier\n",
      "  Accuracy  = 0.970769 \n",
      "\n"
     ]
    }
   ],
   "source": [
    "#plotAuc = True\n",
    "#plotCm = False\n",
    "\n",
    "feat_import = True\n",
    "run_ml(modelos_two, x_train_two,x_test_two,y_train_two,y_test_two)\n"
   ]
  },
  {
   "cell_type": "code",
   "execution_count": null,
   "metadata": {},
   "outputs": [],
   "source": []
  },
  {
   "cell_type": "markdown",
   "metadata": {},
   "source": [
    "### <font color = 'red'>  2.1 - MODELOS PARA 2 CLASSES COM DADOS BALANCEADOS </font>"
   ]
  },
  {
   "cell_type": "code",
   "execution_count": 34,
   "metadata": {
    "scrolled": true
   },
   "outputs": [],
   "source": [
    "from imblearn.over_sampling import SMOTE, ADASYN\n",
    "data_o_two, target_o_two = SMOTE().fit_sample(x_two,y_two)\n",
    "\n",
    "data_o_two   = pd.DataFrame(data_o_two, columns= x_two.columns)\n",
    "target_o_two = pd.DataFrame(target_o_two, columns= ['class']  )\n"
   ]
  },
  {
   "cell_type": "code",
   "execution_count": 35,
   "metadata": {},
   "outputs": [
    {
     "data": {
      "text/plain": [
       "array([[<matplotlib.axes._subplots.AxesSubplot object at 0x7f1744ffa518>]],\n",
       "      dtype=object)"
      ]
     },
     "execution_count": 35,
     "metadata": {},
     "output_type": "execute_result"
    },
    {
     "data": {
      "image/png": "[encoded data removed]",
      "text/plain": [
       "<Figure size 432x288 with 1 Axes>"
      ]
     },
     "metadata": {
      "needs_background": "light"
     },
     "output_type": "display_data"
    }
   ],
   "source": [
    "target_o_two.hist()"
   ]
  },
  {
   "cell_type": "code",
   "execution_count": 36,
   "metadata": {},
   "outputs": [],
   "source": [
    "x_train_two_bal, x_test_two_bal, y_train_two_bal, y_test_two_bal = \\\n",
    "                                                    train_test_split(data_o_two,target_o_two, \n",
    "                                                                     test_size=0.20, random_state=4)\n",
    "\n"
   ]
  },
  {
   "cell_type": "code",
   "execution_count": 37,
   "metadata": {
    "scrolled": true
   },
   "outputs": [
    {
     "name": "stdout",
     "output_type": "stream",
     "text": [
      "\n",
      "==> SVC\n",
      "  Accuracy  = 0.954762 \n",
      "\n",
      "\n",
      "==> RandomForestClassifier\n",
      "  Accuracy  = 0.977381 \n",
      "\n",
      "\n",
      "==> LogisticRegression\n",
      "  Accuracy  = 0.742857 \n",
      "\n",
      "\n",
      "==> DecisionTreeClassifier\n",
      "  Accuracy  = 0.953571 \n",
      "\n",
      "\n",
      "==> ExtraTreesClassifier\n",
      "  Accuracy  = 0.981349 \n",
      "\n",
      "\n",
      "==> GradientBoostingClassifier\n",
      "  Accuracy  = 0.904762 \n",
      "\n",
      "\n",
      "==> GaussianNB\n",
      "  Accuracy  = 0.615476 \n",
      "\n",
      "\n",
      "==> BernoulliNB\n",
      "  Accuracy  = 0.586905 \n",
      "\n",
      "\n",
      "==> KNeighborsClassifier\n",
      "  Accuracy  = 0.902381 \n",
      "\n",
      "\n",
      "==> BaggingClassifier\n",
      "  Accuracy  = 0.973016 \n",
      "\n",
      "================================================================================================\n",
      "\n",
      "==> SVC\n",
      "  Accuracy  = 0.954762 \n",
      "\n",
      "\n",
      "==> RandomForestClassifier\n",
      "  Cols:  ['residual_sugar', 'density', 'alcohol']\n",
      "  Accuracy  = 0.934127 \n",
      "\n",
      "\n",
      "==> LogisticRegression\n",
      "  Accuracy  = 0.742857 \n",
      "\n",
      "\n",
      "==> DecisionTreeClassifier\n",
      "  Cols:  ['volatile_acidity', 'alcohol']\n",
      "  Accuracy  = 0.957540 \n",
      "\n",
      "\n",
      "==> ExtraTreesClassifier\n",
      "  Cols:  ['total_sulfur_dioxide', 'alcohol']\n",
      "  Accuracy  = 0.941270 \n",
      "\n",
      "\n",
      "==> GradientBoostingClassifier\n",
      "  Cols:  ['volatile_acidity', 'alcohol']\n",
      "  Accuracy  = 0.875794 \n",
      "\n",
      "\n",
      "==> GaussianNB\n",
      "  Accuracy  = 0.615476 \n",
      "\n",
      "\n",
      "==> BernoulliNB\n",
      "  Accuracy  = 0.586905 \n",
      "\n",
      "\n",
      "==> KNeighborsClassifier\n",
      "  Accuracy  = 0.902381 \n",
      "\n",
      "\n",
      "==> BaggingClassifier\n",
      "  Accuracy  = 0.965476 \n",
      "\n"
     ]
    }
   ],
   "source": [
    "#plotAuc = True\n",
    "#plotCm = True\n",
    "feat_import = True\n",
    "run_ml(modelos_two, x_train_two_bal,x_test_two_bal,y_train_two_bal,y_test_two_bal)"
   ]
  },
  {
   "cell_type": "code",
   "execution_count": null,
   "metadata": {},
   "outputs": [],
   "source": []
  },
  {
   "cell_type": "markdown",
   "metadata": {},
   "source": [
    "### <font color = 'red'>  2.2 - MODELOS PARA 2 CLASSES COM DADOS NORM E BALANCEADOS </font>\n"
   ]
  },
  {
   "cell_type": "code",
   "execution_count": 38,
   "metadata": {},
   "outputs": [],
   "source": [
    "data_o_two_norm, target_o_two_norm = SMOTE().fit_sample(x_norm,y_two)\n",
    "\n",
    "data_o_two_norm   = pd.DataFrame(data_o_two_norm, columns= x.columns)\n",
    "target_o_two_norm = pd.DataFrame(target_o_two_norm, columns= [\"quality\"])\n",
    "\n",
    "x_train_two_norm_balanc, x_test_two_norm_balanc, \\\n",
    "y_train_two_norm_balanc, y_test_two_norm_balanc = train_test_split(data_o_two_norm, target_o_two_norm, \n",
    "                                                    test_size=0.20, random_state=4)\n"
   ]
  },
  {
   "cell_type": "code",
   "execution_count": 39,
   "metadata": {
    "scrolled": true
   },
   "outputs": [
    {
     "name": "stdout",
     "output_type": "stream",
     "text": [
      "\n",
      "==> SVC\n",
      "  Accuracy  = 0.888095 \n",
      "\n",
      "\n",
      "==> RandomForestClassifier\n",
      "  Accuracy  = 0.981349 \n",
      "\n",
      "\n",
      "==> LogisticRegression\n",
      "  Accuracy  = 0.736905 \n",
      "\n",
      "\n",
      "==> DecisionTreeClassifier\n",
      "  Accuracy  = 0.958730 \n",
      "\n",
      "\n",
      "==> ExtraTreesClassifier\n",
      "  Accuracy  = 0.990079 \n",
      "\n",
      "\n",
      "==> GradientBoostingClassifier\n",
      "  Accuracy  = 0.909524 \n",
      "\n",
      "\n",
      "==> GaussianNB\n",
      "  Accuracy  = 0.615476 \n",
      "\n",
      "\n",
      "==> BernoulliNB\n",
      "  Accuracy  = 0.728968 \n",
      "\n",
      "\n",
      "==> KNeighborsClassifier\n",
      "  Accuracy  = 0.942063 \n",
      "\n",
      "\n",
      "==> BaggingClassifier\n",
      "  Accuracy  = 0.970635 \n",
      "\n",
      "================================================================================================\n",
      "\n",
      "==> SVC\n",
      "  Accuracy  = 0.888095 \n",
      "\n",
      "\n",
      "==> RandomForestClassifier\n",
      "  Cols:  ['volatile_acidity', 'chlorides', 'density', 'alcohol']\n",
      "  Accuracy  = 0.960714 \n",
      "\n",
      "\n",
      "==> LogisticRegression\n",
      "  Accuracy  = 0.736905 \n",
      "\n",
      "\n",
      "==> DecisionTreeClassifier\n",
      "  Cols:  ['volatile_acidity', 'alcohol']\n",
      "  Accuracy  = 0.961508 \n",
      "\n",
      "\n",
      "==> ExtraTreesClassifier\n",
      "  Cols:  ['total_sulfur_dioxide', 'alcohol']\n",
      "  Accuracy  = 0.926587 \n",
      "\n",
      "\n",
      "==> GradientBoostingClassifier\n",
      "  Cols:  ['volatile_acidity', 'citric_acid', 'alcohol']\n",
      "  Accuracy  = 0.877778 \n",
      "\n",
      "\n",
      "==> GaussianNB\n",
      "  Accuracy  = 0.615476 \n",
      "\n",
      "\n",
      "==> BernoulliNB\n",
      "  Accuracy  = 0.728968 \n",
      "\n",
      "\n",
      "==> KNeighborsClassifier\n",
      "  Accuracy  = 0.942063 \n",
      "\n",
      "\n",
      "==> BaggingClassifier\n",
      "  Accuracy  = 0.969841 \n",
      "\n"
     ]
    }
   ],
   "source": [
    "feat_import = True\n",
    "run_ml(modelos_two, x_train_two_norm_balanc,x_test_two_norm_balanc,\n",
    "       y_train_two_norm_balanc,y_test_two_norm_balanc)\n"
   ]
  },
  {
   "cell_type": "code",
   "execution_count": 40,
   "metadata": {
    "scrolled": true
   },
   "outputs": [
    {
     "name": "stdout",
     "output_type": "stream",
     "text": [
      "\n",
      "==> SVC\n",
      "  Accuracy  = 0.893254 \n",
      "\n",
      "\n",
      "==> RandomForestClassifier\n",
      "  Accuracy  = 0.979762 \n",
      "\n",
      "\n",
      "==> LogisticRegression\n",
      "  Accuracy  = 0.734127 \n",
      "\n",
      "\n",
      "==> DecisionTreeClassifier\n",
      "  Accuracy  = 0.955952 \n",
      "\n",
      "\n",
      "==> ExtraTreesClassifier\n",
      "  Accuracy  = 0.988095 \n",
      "\n",
      "\n",
      "==> GradientBoostingClassifier\n",
      "  Accuracy  = 0.909524 \n",
      "\n",
      "\n",
      "==> GaussianNB\n",
      "  Accuracy  = 0.623016 \n",
      "\n",
      "\n",
      "==> BernoulliNB\n",
      "  Accuracy  = 0.721429 \n",
      "\n",
      "\n",
      "==> KNeighborsClassifier\n",
      "  Accuracy  = 0.942460 \n",
      "\n",
      "\n",
      "==> BaggingClassifier\n",
      "  Accuracy  = 0.973016 \n",
      "\n",
      "================================================================================================\n",
      "\n",
      "==> SVC\n",
      "  Accuracy  = 0.893254 \n",
      "\n",
      "\n",
      "==> RandomForestClassifier\n",
      "  Cols:  ['volatile_acidity', 'alcohol']\n",
      "  Accuracy  = 0.957143 \n",
      "\n",
      "\n",
      "==> LogisticRegression\n",
      "  Accuracy  = 0.734127 \n",
      "\n",
      "\n",
      "==> DecisionTreeClassifier\n",
      "  Cols:  ['volatile_acidity', 'alcohol']\n",
      "  Accuracy  = 0.962302 \n",
      "\n",
      "\n",
      "==> ExtraTreesClassifier\n",
      "  Cols:  ['alcohol']\n",
      "  Accuracy  = 0.898016 \n",
      "\n",
      "\n",
      "==> GradientBoostingClassifier\n",
      "  Cols:  ['volatile_acidity', 'alcohol']\n",
      "  Accuracy  = 0.877778 \n",
      "\n",
      "\n",
      "==> GaussianNB\n",
      "  Accuracy  = 0.623016 \n",
      "\n",
      "\n",
      "==> BernoulliNB\n",
      "  Accuracy  = 0.721429 \n",
      "\n",
      "\n",
      "==> KNeighborsClassifier\n",
      "  Accuracy  = 0.942460 \n",
      "\n",
      "\n",
      "==> BaggingClassifier\n",
      "  Accuracy  = 0.971825 \n",
      "\n"
     ]
    }
   ],
   "source": [
    "## EXECUÇÃO SEM A COLUNA TYPE\n",
    "run_ml(modelos_two, x_train_two_norm_balanc.iloc[:,1:],x_test_two_norm_balanc.iloc[:,1:],\n",
    "       y_train_two_norm_balanc,y_test_two_norm_balanc)\n"
   ]
  },
  {
   "cell_type": "markdown",
   "metadata": {},
   "source": [
    "# <font color = 'red'>  MODELO FINAL ExtraTreesClassifier </font>\n"
   ]
  },
  {
   "cell_type": "code",
   "execution_count": 41,
   "metadata": {},
   "outputs": [
    {
     "name": "stdout",
     "output_type": "stream",
     "text": [
      "\n",
      "ACC:  0.9753846153846154\n",
      "\n",
      "CV:  0.9799877282488811\n",
      "\n",
      "Confusion Matrix Stats\n",
      "0/0: 100.00% (1256/1256)\n",
      "0/1: 0.00% (0/1256)\n",
      "1/0: 72.73% (32/44)\n",
      "1/1: 27.27% (12/44)\n"
     ]
    },
    {
     "data": {
      "image/png": "[encoded data removed]",
      "text/plain": [
       "<Figure size 432x288 with 2 Axes>"
      ]
     },
     "metadata": {
      "needs_background": "light"
     },
     "output_type": "display_data"
    },
    {
     "data": {
      "image/png": "[encoded data removed]",
      "text/plain": [
       "<Figure size 432x288 with 1 Axes>"
      ]
     },
     "metadata": {
      "needs_background": "light"
     },
     "output_type": "display_data"
    },
    {
     "name": "stdout",
     "output_type": "stream",
     "text": [
      "PRECISION:  1.0\n",
      "RECALL:  0.2727272727272727\n",
      "FSCORE:  0.42857142857142855\n"
     ]
    }
   ],
   "source": [
    "## MODELOS COM OS DADOS NORMAIS\n",
    "x_treino = x_train_two\n",
    "x_teste  = x_test_two\n",
    "y_treino = y_train_two\n",
    "y_teste  = y_test_two\n",
    "\n",
    "et_1 = ExtraTreesClassifier()\n",
    "et_1.fit(x_treino,y_treino)\n",
    "\n",
    "preds = et_1.predict(x_teste)\n",
    "print(\"\\nACC: \",accuracy_score(y_pred=preds,y_true=y_teste) )\n",
    "\n",
    "etc_eval = cross_val_score(estimator = et_1, X = x_treino, y = y_treino, cv = 10)\n",
    "print(\"\\nCV: \",etc_eval.mean())\n",
    "print()\n",
    "\n",
    "labels = list(np.unique(y_treino)) #[0,1]\n",
    "cm     = confusion_matrix(y_teste, preds,labels=labels)\n",
    "plot_cm(cm, labels)\n",
    "\n",
    "plot_auc_curve(et_1, x_teste, y_teste)\n",
    "\n",
    "\n",
    "print(\"PRECISION: \", metrics.precision_score(y_pred=preds, y_true=y_teste))#, average='binary'))\n",
    "print(\"RECALL: \", metrics.recall_score(y_pred=preds, y_true=y_teste))#, average='binary'))\n",
    "print(\"FSCORE: \", metrics.f1_score(y_pred=preds, y_true=y_teste))#, average='binary'))\n"
   ]
  },
  {
   "cell_type": "code",
   "execution_count": null,
   "metadata": {},
   "outputs": [],
   "source": []
  },
  {
   "cell_type": "code",
   "execution_count": 42,
   "metadata": {},
   "outputs": [
    {
     "name": "stdout",
     "output_type": "stream",
     "text": [
      "\n",
      "ACC:  0.9785714285714285\n",
      "\n",
      "CV:  0.9805517134030044\n",
      "\n",
      "Confusion Matrix Stats\n",
      "0/0: 96.90% (1251/1291)\n",
      "0/1: 3.10% (40/1291)\n",
      "1/0: 1.14% (14/1229)\n",
      "1/1: 98.86% (1215/1229)\n"
     ]
    },
    {
     "data": {
      "image/png": "[encoded data removed]",
      "text/plain": [
       "<Figure size 432x288 with 2 Axes>"
      ]
     },
     "metadata": {
      "needs_background": "light"
     },
     "output_type": "display_data"
    },
    {
     "data": {
      "image/png": "[encoded data removed]",
      "text/plain": [
       "<Figure size 432x288 with 1 Axes>"
      ]
     },
     "metadata": {
      "needs_background": "light"
     },
     "output_type": "display_data"
    },
    {
     "name": "stdout",
     "output_type": "stream",
     "text": [
      "PRECISION:  0.9681274900398407\n",
      "RECALL:  0.9886086248982913\n",
      "FSCORE:  0.9782608695652174\n"
     ]
    }
   ],
   "source": [
    "## MODELOS COM OS DADOS BALANCEADOS\n",
    "x_treino = x_train_two_bal\n",
    "x_teste  = x_test_two_bal\n",
    "y_treino = y_train_two_bal\n",
    "y_teste  = y_test_two_bal\n",
    "\n",
    "et_2 = ExtraTreesClassifier()\n",
    "et_2.fit(x_treino,y_treino)\n",
    "\n",
    "preds = et_2.predict(x_teste)\n",
    "print(\"\\nACC: \",accuracy_score(y_pred=preds,y_true=y_teste) )\n",
    "\n",
    "etc_eval = cross_val_score(estimator = et_2, X = x_treino, y = y_treino, cv = 10)\n",
    "print(\"\\nCV: \",etc_eval.mean())\n",
    "print()\n",
    "\n",
    "labels = list(np.unique(y_treino)) #[0,1]\n",
    "cm     = confusion_matrix(y_teste, preds,labels=labels)\n",
    "plot_cm(cm, labels)\n",
    "\n",
    "plot_auc_curve(et_2, x_teste, y_teste)\n",
    "\n",
    "print(\"PRECISION: \", metrics.precision_score(y_pred=preds, y_true=y_teste))#, average='binary'))\n",
    "print(\"RECALL: \", metrics.recall_score(y_pred=preds, y_true=y_teste))#, average='binary'))\n",
    "print(\"FSCORE: \", metrics.f1_score(y_pred=preds, y_true=y_teste))#, average='binary'))\n"
   ]
  },
  {
   "cell_type": "code",
   "execution_count": null,
   "metadata": {},
   "outputs": [],
   "source": []
  },
  {
   "cell_type": "code",
   "execution_count": 43,
   "metadata": {
    "scrolled": false
   },
   "outputs": [
    {
     "name": "stdout",
     "output_type": "stream",
     "text": [
      "\n",
      "ACC:  0.9888888888888889\n",
      "\n",
      "CV:  0.9870017588950031\n",
      "\n",
      "Confusion Matrix Stats\n",
      "0/0: 98.37% (1270/1291)\n",
      "0/1: 1.63% (21/1291)\n",
      "1/0: 0.57% (7/1229)\n",
      "1/1: 99.43% (1222/1229)\n"
     ]
    },
    {
     "data": {
      "image/png": "[encoded data removed]",
      "text/plain": [
       "<Figure size 432x288 with 2 Axes>"
      ]
     },
     "metadata": {
      "needs_background": "light"
     },
     "output_type": "display_data"
    },
    {
     "data": {
      "image/png": "[encoded data removed]",
      "text/plain": [
       "<Figure size 432x288 with 1 Axes>"
      ]
     },
     "metadata": {
      "needs_background": "light"
     },
     "output_type": "display_data"
    },
    {
     "name": "stdout",
     "output_type": "stream",
     "text": [
      "PRECISION:  0.9831053901850362\n",
      "RECALL:  0.9943043124491456\n",
      "FSCORE:  0.988673139158576\n"
     ]
    }
   ],
   "source": [
    "## MODELOS COM OS DADOS NORMALIZADOS E BALANCEADOS\n",
    "x_treino = x_train_two_norm_balanc\n",
    "x_teste  = x_test_two_norm_balanc\n",
    "y_treino = y_train_two_norm_balanc\n",
    "y_teste  = y_test_two_norm_balanc\n",
    "\n",
    "et_3 = ExtraTreesClassifier()\n",
    "et_3.fit(x_treino,y_treino)\n",
    "\n",
    "preds = et_3.predict(x_teste)\n",
    "print(\"\\nACC: \",accuracy_score(y_pred=preds,y_true=y_teste) )\n",
    "\n",
    "etc_eval = cross_val_score(estimator = et_3, X = x_treino, y = y_treino, cv = 20)\n",
    "print(\"\\nCV: \",etc_eval.mean())\n",
    "print()\n",
    "\n",
    "labels = list(np.unique(y_treino)) #[0,1]\n",
    "cm     = confusion_matrix(y_teste, preds,labels=labels)\n",
    "plot_cm(cm, labels)\n",
    "\n",
    "plot_auc_curve(et_3, x_teste, y_teste)\n",
    "\n",
    "print(\"PRECISION: \", metrics.precision_score(y_pred=preds, y_true=y_teste))#, average='binary'))\n",
    "print(\"RECALL: \", metrics.recall_score(y_pred=preds, y_true=y_teste))#, average='binary'))\n",
    "print(\"FSCORE: \", metrics.f1_score(y_pred=preds, y_true=y_teste))#, average='binary'))\n",
    "\n"
   ]
  },
  {
   "cell_type": "code",
   "execution_count": null,
   "metadata": {},
   "outputs": [],
   "source": []
  },
  {
   "cell_type": "markdown",
   "metadata": {},
   "source": [
    "# <font color = 'red'>  SALVANDO MODELO </font>\n"
   ]
  },
  {
   "cell_type": "code",
   "execution_count": null,
   "metadata": {},
   "outputs": [],
   "source": [
    "## SALVANDO MODELO COM O PACOTE JOBLIB"
   ]
  },
  {
   "cell_type": "code",
   "execution_count": 44,
   "metadata": {},
   "outputs": [],
   "source": []
  },
  {
   "cell_type": "code",
   "execution_count": 46,
   "metadata": {},
   "outputs": [],
   "source": [
    "dic_save_model = dict({\n",
    "    'model': et_3,\n",
    "    'metadata': {\n",
    "        'name': 'ExtraTreesClassifier model to classfier quality of wine',\n",
    "        'author': 'Gabriel Lima Gomes',\n",
    "        'date': '2019-05-22',\n",
    "        'source_code_version': '0.1',\n",
    "        'metrics': {\n",
    "            'accuracy': 98.88\n",
    "        }\n",
    "    }\n",
    "})"
   ]
  },
  {
   "cell_type": "code",
   "execution_count": 48,
   "metadata": {},
   "outputs": [
    {
     "data": {
      "text/plain": [
       "['model_etc.joblib']"
      ]
     },
     "execution_count": 48,
     "metadata": {},
     "output_type": "execute_result"
    }
   ],
   "source": [
    "joblib.dump(dic_save_model, 'model_etc.joblib')"
   ]
  },
  {
   "cell_type": "code",
   "execution_count": null,
   "metadata": {},
   "outputs": [],
   "source": []
  },
  {
   "cell_type": "code",
   "execution_count": null,
   "metadata": {},
   "outputs": [],
   "source": []
  },
  {
   "cell_type": "code",
   "execution_count": null,
   "metadata": {},
   "outputs": [],
   "source": []
  },
  {
   "cell_type": "markdown",
   "metadata": {},
   "source": [
    "# <font color = 'red'>  MODELO FINAL RamdonFores </font>\n"
   ]
  },
  {
   "cell_type": "code",
   "execution_count": null,
   "metadata": {
    "scrolled": false
   },
   "outputs": [],
   "source": [
    "x_treino = x_train_two\n",
    "x_teste  = x_test_two\n",
    "y_treino = y_train_two\n",
    "y_teste  = y_test_two\n",
    "\n",
    "rf = RandomForestClassifier()\n",
    "rf.fit(x_treino,y_treino)\n",
    "\n",
    "preds = rf.predict(x_teste)\n",
    "print(\"\\nACC: \",accuracy_score(y_pred=preds,y_true=y_teste) )\n",
    "\n",
    "rfc_eval = cross_val_score(estimator = rf, X = x_treino, y = y_treino, cv = 10)\n",
    "print(\"\\nCV: \",rfc_eval.mean())\n",
    "print()\n",
    "\n",
    "labels = list(np.unique(y_treino)) #[0,1]\n",
    "cm     = confusion_matrix(y_teste, preds,labels=labels)\n",
    "plot_cm(cm, labels)\n",
    "\n",
    "plot_auc_curve(rf, x_teste, y_teste)\n",
    "\n",
    "\n",
    "print(\"PRECISION: \", metrics.precision_score(y_pred=preds, y_true=y_teste))#, average='binary'))\n",
    "print(\"RECALL: \", metrics.recall_score(y_pred=preds, y_true=y_teste))#, average='binary'))\n",
    "print(\"FSCORE: \", metrics.f1_score(y_pred=preds, y_true=y_teste))#, average='binary'))\n"
   ]
  },
  {
   "cell_type": "code",
   "execution_count": null,
   "metadata": {},
   "outputs": [],
   "source": []
  },
  {
   "cell_type": "code",
   "execution_count": null,
   "metadata": {},
   "outputs": [],
   "source": []
  },
  {
   "cell_type": "code",
   "execution_count": null,
   "metadata": {
    "scrolled": false
   },
   "outputs": [],
   "source": [
    "x_treino = x_train_two_bal\n",
    "x_teste  = x_test_two_bal\n",
    "y_treino = y_train_two_bal\n",
    "y_teste  = y_test_two_bal\n",
    "\n",
    "rf = RandomForestClassifier()\n",
    "rf.fit(x_treino,y_treino)\n",
    "\n",
    "preds = rf.predict(x_teste)\n",
    "print(\"\\nACC: \",accuracy_score(y_pred=preds,y_true=y_teste) )\n",
    "\n",
    "rfc_eval = cross_val_score(estimator = rf, X = x_treino, y = y_treino, cv = 10)\n",
    "print(\"\\nCV: \",rfc_eval.mean())\n",
    "print()\n",
    "\n",
    "labels = list(np.unique(y_treino)) #[0,1]\n",
    "cm     = confusion_matrix(y_teste, preds,labels=labels)\n",
    "plot_cm(cm, labels)\n",
    "\n",
    "plot_auc_curve(rf, x_teste, y_teste)\n",
    "\n",
    "print(\"PRECISION: \", metrics.precision_score(y_pred=preds, y_true=y_teste))#, average='binary'))\n",
    "print(\"RECALL: \", metrics.recall_score(y_pred=preds, y_true=y_teste))#, average='binary'))\n",
    "print(\"FSCORE: \", metrics.f1_score(y_pred=preds, y_true=y_teste))#, average='binary'))\n"
   ]
  },
  {
   "cell_type": "code",
   "execution_count": null,
   "metadata": {},
   "outputs": [],
   "source": [
    "x_treino = x_train_two_norm_balanc\n",
    "x_teste  = x_test_two_norm_balanc\n",
    "y_treino = y_train_two_norm_balanc\n",
    "y_teste  = y_test_two_norm_balanc\n",
    "\n",
    "rf = RandomForestClassifier()\n",
    "rf.fit(x_treino,y_treino)\n",
    "\n",
    "preds = rf.predict(x_teste)\n",
    "print(\"\\nACC: \",accuracy_score(y_pred=preds,y_true=y_teste) )\n",
    "\n",
    "rfc_eval = cross_val_score(estimator = rf, X = x_treino, y = y_treino, cv = 20)\n",
    "print(\"\\nCV: \",rfc_eval.mean())\n",
    "print()\n",
    "\n",
    "labels = list(np.unique(y_treino)) #[0,1]\n",
    "cm     = confusion_matrix(y_teste, preds,labels=labels)\n",
    "plot_cm(cm, labels)\n",
    "\n",
    "plot_auc_curve(rf, x_teste, y_teste)\n",
    "\n",
    "print(\"PRECISION: \", metrics.precision_score(y_pred=preds, y_true=y_teste))#, average='binary'))\n",
    "print(\"RECALL: \", metrics.recall_score(y_pred=preds, y_true=y_teste))#, average='binary'))\n",
    "print(\"FSCORE: \", metrics.f1_score(y_pred=preds, y_true=y_teste))#, average='binary'))\n"
   ]
  },
  {
   "cell_type": "code",
   "execution_count": null,
   "metadata": {},
   "outputs": [],
   "source": []
  },
  {
   "cell_type": "code",
   "execution_count": null,
   "metadata": {},
   "outputs": [],
   "source": []
  },
  {
   "cell_type": "code",
   "execution_count": null,
   "metadata": {},
   "outputs": [],
   "source": []
  }
 ],
 "metadata": {
  "kernelspec": {
   "display_name": "Python 3",
   "language": "python",
   "name": "python3"
  },
  "language_info": {
   "codemirror_mode": {
    "name": "ipython",
    "version": 3
   },
   "file_extension": ".py",
   "mimetype": "text/x-python",
   "name": "python",
   "nbconvert_exporter": "python",
   "pygments_lexer": "ipython3",
   "version": "3.4.9"
  }
 },
 "nbformat": 4,
 "nbformat_minor": 2
}
