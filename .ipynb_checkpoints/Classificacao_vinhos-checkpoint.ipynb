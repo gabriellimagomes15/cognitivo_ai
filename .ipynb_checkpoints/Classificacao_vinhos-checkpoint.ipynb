{
 "cells": [
  {
   "cell_type": "code",
   "execution_count": 1,
   "metadata": {},
   "outputs": [],
   "source": [
    "#!pip install imblearn\n"
   ]
  },
  {
   "cell_type": "code",
   "execution_count": 155,
   "metadata": {},
   "outputs": [],
   "source": [
    "import pandas as pd\n",
    "import numpy as np\n",
    "import warnings\n",
    "warnings.filterwarnings('ignore')\n",
    "\n",
    "import sklearn.feature_extraction\n",
    "\n",
    "#from collections import Counter\n",
    "\n",
    "#import sklearn.ensemble\n",
    "from sklearn.model_selection import cross_val_score\n",
    "from sklearn.model_selection import train_test_split\n",
    "import matplotlib.pyplot as plt\n",
    "from sklearn.metrics import confusion_matrix\n",
    "from sklearn.metrics import accuracy_score\n",
    "#import pickle\n",
    "from sklearn import preprocessing\n",
    "from sklearn import metrics\n",
    "import imblearn\n",
    " \n",
    "\n",
    "from sklearn.naive_bayes import MultinomialNB\n",
    "from sklearn.linear_model import LogisticRegression\n",
    "from sklearn.ensemble import RandomForestClassifier\n",
    "from sklearn.svm import LinearSVC\n",
    "from sklearn.linear_model import SGDClassifier\n",
    "from sklearn.svm import SVC\n",
    "from sklearn.pipeline import Pipeline\n",
    "from sklearn.naive_bayes import GaussianNB,BernoulliNB,MultinomialNB\n",
    "#from sklearn.ensemble import BaggingClassifier\n",
    "from sklearn.neighbors import KNeighborsClassifier\n",
    "#from sklearn.tree import DecisionTreeClassifier\n",
    "#from sklearn.ensemble import ExtraTreesClassifier\n",
    "#from sklearn.ensemble import AdaBoostClassifier\n",
    "from sklearn.ensemble import GradientBoostingClassifier,BaggingClassifier\n",
    "\n",
    "%matplotlib inline\n"
   ]
  },
  {
   "cell_type": "code",
   "execution_count": 161,
   "metadata": {},
   "outputs": [],
   "source": [
    "##### FUNCTIONS #####\n",
    "\n",
    "## função para plotar matriz de confusão\n",
    "def plot_cm(cm, labels):\n",
    "    \n",
    "    # calcula porcentagens \n",
    "    percent = (cm*100.0)/np.array(np.matrix(cm.sum(axis=1)).T)\n",
    "    \n",
    "    print('Confusion Matrix Stats')\n",
    "    for i, label_i in enumerate(labels):\n",
    "        for j, label_j in enumerate(labels):\n",
    "            print(\"%s/%s: %.2f%% (%d/%d)\" % (label_i, label_j, (percent[i][j]), cm[i][j], cm[i].sum()) )\n",
    "\n",
    "    # Show confusion matrix\n",
    "    fig = plt.figure()\n",
    "    ax = fig.add_subplot(111)\n",
    "    ax.grid(b=False)\n",
    "    cax = ax.matshow(percent, cmap='coolwarm')\n",
    "    plt.title('Confusion matrix of the classifier')\n",
    "    fig.colorbar(cax)\n",
    "    ax.set_xticklabels([''] + labels)\n",
    "    ax.set_yticklabels([''] + labels)\n",
    "    plt.xlabel('Predicted')\n",
    "    plt.ylabel('True')\n",
    "    plt.show()\n",
    "    \n",
    "\n",
    "## FUNCTION TO RUN MODEL OF THE ML\n",
    "def run_ml(X_train,X_test,y_train,y_test):\n",
    "\n",
    "    modelos = [ SVC(),#C= 10, gamma= 0.001, kernel= 'linear', probability= False),\n",
    "                RandomForestClassifier(),#criterion='entropy', max_depth= None, max_features='sqrt',n_estimators= 10000),\n",
    "                LogisticRegression(),#solver='lbfgs',multi_class='multinomial',class_weight='balanced',random_state=0),\n",
    "                #DecisionTreeClassifier(),#max_depth=20, min_samples_split=50), #81.3%\n",
    "                #ExtraTreesClassifier(),#n_estimators=10, max_depth=None,min_samples_split=2, random_state=0), #80.6%\n",
    "                #AdaBoostClassifier(),#base_estimator=SVC(),\n",
    "                                   #learning_rate=1.0,n_estimators=400,algorithm='SAMME'),#n_estimators=10),\n",
    "                #GradientBoostingClassifier(),#n_estimators=1000, learning_rate=1.0,max_depth=1, random_state=0),\n",
    "                GaussianNB(),\n",
    "                #BernoulliNB(),\n",
    "                #MultinomialNB(),\n",
    "                KNeighborsClassifier(),#n_neighbors=11),\n",
    "                BaggingClassifier(),#RandomForestClassifier(),max_samples=0.5,max_features=0.5)\n",
    "                ]\n",
    "\n",
    "\n",
    "    for m in modelos:\n",
    "        print(\"\\n==>\",m.__class__.__name__)\n",
    "        text_clf = Pipeline([('clf', m )])\n",
    "\n",
    "        text_clf  = text_clf.fit(np.asarray(X_train), y_train)\n",
    "        predicted = text_clf.predict(np.asarray(X_test))\n",
    "        print(\"  Accuracy  = %f \\n\" % accuracy_score(y_test, predicted))\n",
    "        labels = list(np.unique(y_train)) #[0,1]\n",
    "        cm     = confusion_matrix(y_test, predicted,labels=labels)    \n",
    "        plot_cm(cm,labels)\n",
    "\n",
    "        if hasattr(text_clf, 'predict_probas'):\n",
    "            y_pred_proba = text_clf.predict_proba(X_test)[::,1]\n",
    "            fpr, tpr, _  = sklearn.metrics.roc_curve(y_test,  y_pred_proba)\n",
    "            auc          = sklearn.metrics.roc_auc_score(y_test, y_pred_proba)\n",
    "\n",
    "            plt.plot(fpr,tpr,label=\"data 1, auc=\"+str(auc))\n",
    "            plt.legend(loc=4)\n",
    "            plt.show()\n",
    "\n",
    "    print(\"================================================================================================\")\n",
    "\n",
    "    ##  CHECKING FEATURES IMPORTANCES \n",
    "    for m in modelos:\n",
    "        print(\"\\n==>\",m.__class__.__name__)\n",
    "        cols = X_train.columns\n",
    "        m.fit(np.asarray(X_train),y_train)\n",
    "\n",
    "        if hasattr(m, 'feature_importances_'):\n",
    "            x_labels = X_train.columns[:]\n",
    "            prob     = list()        \n",
    "            cols     = list()        \n",
    "            features = m.feature_importances_\n",
    "            for i,l in zip(x_labels,features):\n",
    "                if l*100 > int( np.mean(features)*100 ):\n",
    "                    cols.append(i)\n",
    "            print(\"  Cols: \", cols)\n",
    "\n",
    "        text_clf  = m.fit(np.asarray(X_train.loc[:,cols]), y_train)\n",
    "        predicted = text_clf.predict(np.asarray(X_test.loc[:,cols]))\n",
    "\n",
    "        print(\"  Accuracy  = %f \\n\" % accuracy_score(y_test, predicted))\n",
    "        labels = list(np.unique(y_train)) #[0,1]\n",
    "        cm     = confusion_matrix(y_test, predicted,labels=labels)    \n",
    "        plot_cm(cm,labels)\n",
    "        \n",
    "        if hasattr(text_clf, 'predict_probas'):\n",
    "            y_pred_proba = text_clf.predict_proba(X_test.loc[:,cols])[::,1]\n",
    "            fpr, tpr, _  = sklearn.metrics.roc_curve(y_test,  y_pred_proba)\n",
    "            auc          = sklearn.metrics.roc_auc_score(y_test, y_pred_proba)\n",
    "\n",
    "            plt.plot(fpr,tpr,label=\"data 1, auc=\"+str(auc))\n",
    "            plt.legend(loc=4)\n",
    "            plt.show()\n",
    "            \n"
   ]
  },
  {
   "cell_type": "code",
   "execution_count": 125,
   "metadata": {},
   "outputs": [],
   "source": [
    "dados = pd.read_csv(\"winequality.csv\", sep = ';')"
   ]
  },
  {
   "cell_type": "code",
   "execution_count": 126,
   "metadata": {
    "scrolled": true
   },
   "outputs": [
    {
     "name": "stdout",
     "output_type": "stream",
     "text": [
      "<class 'pandas.core.frame.DataFrame'>\n",
      "RangeIndex: 6497 entries, 0 to 6496\n",
      "Data columns (total 13 columns):\n",
      "type                    6497 non-null object\n",
      "fixed acidity           6497 non-null float64\n",
      "volatile acidity        6497 non-null float64\n",
      "citric acid             6497 non-null float64\n",
      "residual sugar          6497 non-null float64\n",
      "chlorides               6497 non-null float64\n",
      "free sulfur dioxide     6497 non-null float64\n",
      "total sulfur dioxide    6497 non-null float64\n",
      "density                 6497 non-null float64\n",
      "pH                      6497 non-null float64\n",
      "sulphates               6497 non-null float64\n",
      "alcohol                 6497 non-null object\n",
      "quality                 6497 non-null int64\n",
      "dtypes: float64(10), int64(1), object(2)\n",
      "memory usage: 659.9+ KB\n"
     ]
    }
   ],
   "source": [
    "dados.info()"
   ]
  },
  {
   "cell_type": "code",
   "execution_count": null,
   "metadata": {},
   "outputs": [],
   "source": []
  },
  {
   "cell_type": "code",
   "execution_count": 96,
   "metadata": {
    "scrolled": true
   },
   "outputs": [
    {
     "data": {
      "text/plain": [
       "19"
      ]
     },
     "execution_count": 96,
     "metadata": {},
     "output_type": "execute_result"
    }
   ],
   "source": [
    "a = dados.loc[4315,[\"alcohol\"]]\n",
    "len(a.alcohol)\n"
   ]
  },
  {
   "cell_type": "code",
   "execution_count": 127,
   "metadata": {},
   "outputs": [],
   "source": [
    "lista = list()\n",
    "for i,a in dados.iterrows():\n",
    "    if len(a[\"alcohol\"]) > 5:\n",
    "        #print(i,a[\"alcohol\"])\n",
    "        lista.append(i)"
   ]
  },
  {
   "cell_type": "code",
   "execution_count": 128,
   "metadata": {},
   "outputs": [],
   "source": [
    "dados = dados.drop(index=lista)"
   ]
  },
  {
   "cell_type": "code",
   "execution_count": 129,
   "metadata": {},
   "outputs": [],
   "source": [
    "dados.alcohol = pd.to_numeric(dados.alcohol)"
   ]
  },
  {
   "cell_type": "code",
   "execution_count": 130,
   "metadata": {},
   "outputs": [
    {
     "data": {
      "image/png": "[encoded data removed]",
      "text/plain": [
       "<Figure size 1080x1080 with 12 Axes>"
      ]
     },
     "metadata": {},
     "output_type": "display_data"
    }
   ],
   "source": [
    "#plt.figure(figsize=(10,10))\n",
    "dados.iloc[:,1:].hist(figsize=(15,15))\n",
    "plt.show()"
   ]
  },
  {
   "cell_type": "code",
   "execution_count": 131,
   "metadata": {},
   "outputs": [],
   "source": [
    "#Defining the splits for categories. 1–4 will be poor quality, 5–6 will be average, 7–10 will be great\n",
    "bins = [1,4,6,10]\n",
    "\n",
    "#0 for low quality, 1 for average, 2 for great quality\n",
    "quality_labels=[0,1,2]\n",
    "\n",
    "dados['class'] = pd.cut(dados['quality'], bins=bins, labels=quality_labels, include_lowest=True)"
   ]
  },
  {
   "cell_type": "code",
   "execution_count": 132,
   "metadata": {},
   "outputs": [],
   "source": [
    "label_type = preprocessing.LabelEncoder()\n",
    "dados[\"type\"] = label_type.fit_transform(dados.type)"
   ]
  },
  {
   "cell_type": "code",
   "execution_count": null,
   "metadata": {},
   "outputs": [],
   "source": []
  },
  {
   "cell_type": "code",
   "execution_count": 133,
   "metadata": {},
   "outputs": [
    {
     "data": {
      "text/plain": [
       "<matplotlib.axes._subplots.AxesSubplot at 0x295f8386e48>"
      ]
     },
     "execution_count": 133,
     "metadata": {},
     "output_type": "execute_result"
    },
    {
     "data": {
      "image/png": "[encoded data removed]",
      "text/plain": [
       "<Figure size 432x288 with 1 Axes>"
      ]
     },
     "metadata": {},
     "output_type": "display_data"
    }
   ],
   "source": [
    "dados.loc[:,'class'].hist()"
   ]
  },
  {
   "cell_type": "code",
   "execution_count": 134,
   "metadata": {
    "scrolled": true
   },
   "outputs": [],
   "source": [
    "dados_clean = dados.drop(columns=['quality'])\n"
   ]
  },
  {
   "cell_type": "code",
   "execution_count": 12,
   "metadata": {},
   "outputs": [],
   "source": [
    "#dados_clean.head()"
   ]
  },
  {
   "cell_type": "code",
   "execution_count": 135,
   "metadata": {},
   "outputs": [],
   "source": [
    "x_train, x_test, y_train, y_test = train_test_split(dados_clean.iloc[:,:-1], \n",
    "                                                    dados_clean.iloc[:,-1:], \n",
    "                                                    test_size=0.30, random_state=4)"
   ]
  },
  {
   "cell_type": "code",
   "execution_count": null,
   "metadata": {},
   "outputs": [],
   "source": []
  },
  {
   "cell_type": "code",
   "execution_count": 136,
   "metadata": {},
   "outputs": [
    {
     "data": {
      "text/html": [
       "<div>\n",
       "<style scoped>\n",
       "    .dataframe tbody tr th:only-of-type {\n",
       "        vertical-align: middle;\n",
       "    }\n",
       "\n",
       "    .dataframe tbody tr th {\n",
       "        vertical-align: top;\n",
       "    }\n",
       "\n",
       "    .dataframe thead th {\n",
       "        text-align: right;\n",
       "    }\n",
       "</style>\n",
       "<table border=\"1\" class=\"dataframe\">\n",
       "  <thead>\n",
       "    <tr style=\"text-align: right;\">\n",
       "      <th></th>\n",
       "      <th>type</th>\n",
       "      <th>fixed acidity</th>\n",
       "      <th>volatile acidity</th>\n",
       "      <th>citric acid</th>\n",
       "      <th>residual sugar</th>\n",
       "      <th>chlorides</th>\n",
       "      <th>free sulfur dioxide</th>\n",
       "      <th>total sulfur dioxide</th>\n",
       "      <th>density</th>\n",
       "      <th>pH</th>\n",
       "      <th>sulphates</th>\n",
       "      <th>alcohol</th>\n",
       "    </tr>\n",
       "  </thead>\n",
       "  <tbody>\n",
       "    <tr>\n",
       "      <th>600</th>\n",
       "      <td>1</td>\n",
       "      <td>6.7</td>\n",
       "      <td>0.30</td>\n",
       "      <td>0.35</td>\n",
       "      <td>1.4</td>\n",
       "      <td>0.180</td>\n",
       "      <td>36.0</td>\n",
       "      <td>160.0</td>\n",
       "      <td>0.9937</td>\n",
       "      <td>3.11</td>\n",
       "      <td>0.54</td>\n",
       "      <td>9.4</td>\n",
       "    </tr>\n",
       "    <tr>\n",
       "      <th>703</th>\n",
       "      <td>1</td>\n",
       "      <td>6.4</td>\n",
       "      <td>0.33</td>\n",
       "      <td>0.28</td>\n",
       "      <td>1.1</td>\n",
       "      <td>0.038</td>\n",
       "      <td>30.0</td>\n",
       "      <td>110.0</td>\n",
       "      <td>0.9917</td>\n",
       "      <td>3.12</td>\n",
       "      <td>0.42</td>\n",
       "      <td>10.5</td>\n",
       "    </tr>\n",
       "    <tr>\n",
       "      <th>3840</th>\n",
       "      <td>1</td>\n",
       "      <td>6.7</td>\n",
       "      <td>0.37</td>\n",
       "      <td>0.25</td>\n",
       "      <td>2.5</td>\n",
       "      <td>0.028</td>\n",
       "      <td>24.0</td>\n",
       "      <td>84.0</td>\n",
       "      <td>0.9909</td>\n",
       "      <td>3.14</td>\n",
       "      <td>0.36</td>\n",
       "      <td>11.7</td>\n",
       "    </tr>\n",
       "    <tr>\n",
       "      <th>1718</th>\n",
       "      <td>1</td>\n",
       "      <td>9.3</td>\n",
       "      <td>0.20</td>\n",
       "      <td>0.33</td>\n",
       "      <td>1.7</td>\n",
       "      <td>0.050</td>\n",
       "      <td>28.0</td>\n",
       "      <td>178.0</td>\n",
       "      <td>0.9954</td>\n",
       "      <td>3.16</td>\n",
       "      <td>0.43</td>\n",
       "      <td>9.0</td>\n",
       "    </tr>\n",
       "    <tr>\n",
       "      <th>4991</th>\n",
       "      <td>0</td>\n",
       "      <td>7.7</td>\n",
       "      <td>0.49</td>\n",
       "      <td>0.26</td>\n",
       "      <td>1.9</td>\n",
       "      <td>0.062</td>\n",
       "      <td>9.0</td>\n",
       "      <td>31.0</td>\n",
       "      <td>0.9966</td>\n",
       "      <td>3.39</td>\n",
       "      <td>0.64</td>\n",
       "      <td>9.6</td>\n",
       "    </tr>\n",
       "  </tbody>\n",
       "</table>\n",
       "</div>"
      ],
      "text/plain": [
       "      type  fixed acidity  volatile acidity  citric acid  residual sugar  \\\n",
       "600      1            6.7              0.30         0.35             1.4   \n",
       "703      1            6.4              0.33         0.28             1.1   \n",
       "3840     1            6.7              0.37         0.25             2.5   \n",
       "1718     1            9.3              0.20         0.33             1.7   \n",
       "4991     0            7.7              0.49         0.26             1.9   \n",
       "\n",
       "      chlorides  free sulfur dioxide  total sulfur dioxide  density    pH  \\\n",
       "600       0.180                 36.0                 160.0   0.9937  3.11   \n",
       "703       0.038                 30.0                 110.0   0.9917  3.12   \n",
       "3840      0.028                 24.0                  84.0   0.9909  3.14   \n",
       "1718      0.050                 28.0                 178.0   0.9954  3.16   \n",
       "4991      0.062                  9.0                  31.0   0.9966  3.39   \n",
       "\n",
       "      sulphates  alcohol  \n",
       "600        0.54      9.4  \n",
       "703        0.42     10.5  \n",
       "3840       0.36     11.7  \n",
       "1718       0.43      9.0  \n",
       "4991       0.64      9.6  "
      ]
     },
     "execution_count": 136,
     "metadata": {},
     "output_type": "execute_result"
    }
   ],
   "source": [
    "x_train.head()\n",
    "#y_train"
   ]
  },
  {
   "cell_type": "code",
   "execution_count": 137,
   "metadata": {},
   "outputs": [
    {
     "name": "stdout",
     "output_type": "stream",
     "text": [
      "<class 'pandas.core.frame.DataFrame'>\n",
      "Int64Index: 4519 entries, 600 to 1146\n",
      "Data columns (total 12 columns):\n",
      "type                    4519 non-null int32\n",
      "fixed acidity           4519 non-null float64\n",
      "volatile acidity        4519 non-null float64\n",
      "citric acid             4519 non-null float64\n",
      "residual sugar          4519 non-null float64\n",
      "chlorides               4519 non-null float64\n",
      "free sulfur dioxide     4519 non-null float64\n",
      "total sulfur dioxide    4519 non-null float64\n",
      "density                 4519 non-null float64\n",
      "pH                      4519 non-null float64\n",
      "sulphates               4519 non-null float64\n",
      "alcohol                 4519 non-null float64\n",
      "dtypes: float64(11), int32(1)\n",
      "memory usage: 441.3 KB\n"
     ]
    }
   ],
   "source": [
    "x_train.info()"
   ]
  },
  {
   "cell_type": "code",
   "execution_count": 162,
   "metadata": {
    "scrolled": true
   },
   "outputs": [
    {
     "name": "stdout",
     "output_type": "stream",
     "text": [
      "\n",
      "==> SVC\n",
      "  Accuracy  = 0.794634 \n",
      "\n",
      "Confusion Matrix Stats\n",
      "0/0: 2.50% (2/80)\n",
      "0/1: 96.25% (77/80)\n",
      "0/2: 1.25% (1/80)\n",
      "1/0: 0.07% (1/1478)\n",
      "1/1: 96.75% (1430/1478)\n",
      "1/2: 3.18% (47/1478)\n",
      "2/0: 0.00% (0/380)\n",
      "2/1: 71.58% (272/380)\n",
      "2/2: 28.42% (108/380)\n"
     ]
    },
    {
     "data": {
      "image/png": "[encoded data removed]",
      "text/plain": [
       "<Figure size 432x288 with 2 Axes>"
      ]
     },
     "metadata": {},
     "output_type": "display_data"
    },
    {
     "name": "stdout",
     "output_type": "stream",
     "text": [
      "\n",
      "==> RandomForestClassifier\n",
      "  Accuracy  = 0.825593 \n",
      "\n",
      "Confusion Matrix Stats\n",
      "0/0: 11.25% (9/80)\n",
      "0/1: 87.50% (70/80)\n",
      "0/2: 1.25% (1/80)\n",
      "1/0: 0.68% (10/1478)\n",
      "1/1: 94.86% (1402/1478)\n",
      "1/2: 4.47% (66/1478)\n",
      "2/0: 0.00% (0/380)\n",
      "2/1: 50.26% (191/380)\n",
      "2/2: 49.74% (189/380)\n"
     ]
    },
    {
     "data": {
      "image/png": "[encoded data removed]",
      "text/plain": [
       "<Figure size 432x288 with 2 Axes>"
      ]
     },
     "metadata": {},
     "output_type": "display_data"
    },
    {
     "name": "stdout",
     "output_type": "stream",
     "text": [
      "\n",
      "==> LogisticRegression\n",
      "  Accuracy  = 0.778122 \n",
      "\n",
      "Confusion Matrix Stats\n",
      "0/0: 1.25% (1/80)\n",
      "0/1: 97.50% (78/80)\n",
      "0/2: 1.25% (1/80)\n",
      "1/0: 0.00% (0/1478)\n",
      "1/1: 97.50% (1441/1478)\n",
      "1/2: 2.50% (37/1478)\n",
      "2/0: 0.00% (0/380)\n",
      "2/1: 82.63% (314/380)\n",
      "2/2: 17.37% (66/380)\n"
     ]
    },
    {
     "data": {
      "image/png": "[encoded data removed]",
      "text/plain": [
       "<Figure size 432x288 with 2 Axes>"
      ]
     },
     "metadata": {},
     "output_type": "display_data"
    },
    {
     "name": "stdout",
     "output_type": "stream",
     "text": [
      "\n",
      "==> GaussianNB\n",
      "  Accuracy  = 0.671827 \n",
      "\n",
      "Confusion Matrix Stats\n",
      "0/0: 17.50% (14/80)\n",
      "0/1: 61.25% (49/80)\n",
      "0/2: 21.25% (17/80)\n",
      "1/0: 3.86% (57/1478)\n",
      "1/1: 69.01% (1020/1478)\n",
      "1/2: 27.13% (401/1478)\n",
      "2/0: 0.26% (1/380)\n",
      "2/1: 29.21% (111/380)\n",
      "2/2: 70.53% (268/380)\n"
     ]
    },
    {
     "data": {
      "image/png": "[encoded data removed]",
      "text/plain": [
       "<Figure size 432x288 with 2 Axes>"
      ]
     },
     "metadata": {},
     "output_type": "display_data"
    },
    {
     "name": "stdout",
     "output_type": "stream",
     "text": [
      "\n",
      "==> KNeighborsClassifier\n",
      "  Accuracy  = 0.766254 \n",
      "\n",
      "Confusion Matrix Stats\n",
      "0/0: 3.75% (3/80)\n",
      "0/1: 91.25% (73/80)\n",
      "0/2: 5.00% (4/80)\n",
      "1/0: 1.08% (16/1478)\n",
      "1/1: 91.61% (1354/1478)\n",
      "1/2: 7.31% (108/1478)\n",
      "2/0: 0.53% (2/380)\n",
      "2/1: 65.79% (250/380)\n",
      "2/2: 33.68% (128/380)\n"
     ]
    },
    {
     "data": {
      "image/png": "[encoded data removed]",
      "text/plain": [
       "<Figure size 432x288 with 2 Axes>"
      ]
     },
     "metadata": {},
     "output_type": "display_data"
    },
    {
     "name": "stdout",
     "output_type": "stream",
     "text": [
      "\n",
      "==> BaggingClassifier\n",
      "  Accuracy  = 0.825593 \n",
      "\n",
      "Confusion Matrix Stats\n",
      "0/0: 16.25% (13/80)\n",
      "0/1: 80.00% (64/80)\n",
      "0/2: 3.75% (3/80)\n",
      "1/0: 1.22% (18/1478)\n",
      "1/1: 93.71% (1385/1478)\n",
      "1/2: 5.07% (75/1478)\n",
      "2/0: 0.00% (0/380)\n",
      "2/1: 46.84% (178/380)\n",
      "2/2: 53.16% (202/380)\n"
     ]
    },
    {
     "data": {
      "image/png": "[encoded data removed]",
      "text/plain": [
       "<Figure size 432x288 with 2 Axes>"
      ]
     },
     "metadata": {},
     "output_type": "display_data"
    },
    {
     "name": "stdout",
     "output_type": "stream",
     "text": [
      "================================================================================================\n",
      "\n",
      "==> SVC\n",
      "  Accuracy  = 0.794634 \n",
      "\n",
      "Confusion Matrix Stats\n",
      "0/0: 2.50% (2/80)\n",
      "0/1: 96.25% (77/80)\n",
      "0/2: 1.25% (1/80)\n",
      "1/0: 0.07% (1/1478)\n",
      "1/1: 96.75% (1430/1478)\n",
      "1/2: 3.18% (47/1478)\n",
      "2/0: 0.00% (0/380)\n",
      "2/1: 71.58% (272/380)\n",
      "2/2: 28.42% (108/380)\n"
     ]
    },
    {
     "data": {
      "image/png": "[encoded data removed]",
      "text/plain": [
       "<Figure size 432x288 with 2 Axes>"
      ]
     },
     "metadata": {},
     "output_type": "display_data"
    },
    {
     "name": "stdout",
     "output_type": "stream",
     "text": [
      "\n",
      "==> RandomForestClassifier\n",
      "  Cols:  ['volatile acidity', 'chlorides', 'total sulfur dioxide', 'density', 'pH', 'sulphates', 'alcohol']\n",
      "  Accuracy  = 0.833333 \n",
      "\n",
      "Confusion Matrix Stats\n",
      "0/0: 13.75% (11/80)\n",
      "0/1: 81.25% (65/80)\n",
      "0/2: 5.00% (4/80)\n",
      "1/0: 0.47% (7/1478)\n",
      "1/1: 95.06% (1405/1478)\n",
      "1/2: 4.47% (66/1478)\n",
      "2/0: 0.00% (0/380)\n",
      "2/1: 47.63% (181/380)\n",
      "2/2: 52.37% (199/380)\n"
     ]
    },
    {
     "data": {
      "image/png": "[encoded data removed]",
      "text/plain": [
       "<Figure size 432x288 with 2 Axes>"
      ]
     },
     "metadata": {},
     "output_type": "display_data"
    },
    {
     "ename": "ValueError",
     "evalue": "multiclass format is not supported",
     "output_type": "error",
     "traceback": [
      "\u001b[1;31m---------------------------------------------------------------------------\u001b[0m",
      "\u001b[1;31mValueError\u001b[0m                                Traceback (most recent call last)",
      "\u001b[1;32m<ipython-input-162-6f5e74bc9253>\u001b[0m in \u001b[0;36m<module>\u001b[1;34m()\u001b[0m\n\u001b[1;32m----> 1\u001b[1;33m \u001b[0mrun_ml\u001b[0m\u001b[1;33m(\u001b[0m\u001b[0mx_train\u001b[0m\u001b[1;33m,\u001b[0m\u001b[0mx_test\u001b[0m\u001b[1;33m,\u001b[0m\u001b[0my_train\u001b[0m\u001b[1;33m,\u001b[0m\u001b[0my_test\u001b[0m\u001b[1;33m)\u001b[0m\u001b[1;33m\u001b[0m\u001b[0m\n\u001b[0m",
      "\u001b[1;32m<ipython-input-161-b46f4901fa4e>\u001b[0m in \u001b[0;36mrun_ml\u001b[1;34m(X_train, X_test, y_train, y_test)\u001b[0m\n\u001b[0;32m     93\u001b[0m         \u001b[1;32mif\u001b[0m \u001b[0mhasattr\u001b[0m\u001b[1;33m(\u001b[0m\u001b[0mtext_clf\u001b[0m\u001b[1;33m,\u001b[0m \u001b[1;34m'predict_proba'\u001b[0m\u001b[1;33m)\u001b[0m\u001b[1;33m:\u001b[0m\u001b[1;33m\u001b[0m\u001b[0m\n\u001b[0;32m     94\u001b[0m             \u001b[0my_pred_proba\u001b[0m \u001b[1;33m=\u001b[0m \u001b[0mtext_clf\u001b[0m\u001b[1;33m.\u001b[0m\u001b[0mpredict_proba\u001b[0m\u001b[1;33m(\u001b[0m\u001b[0mX_test\u001b[0m\u001b[1;33m.\u001b[0m\u001b[0mloc\u001b[0m\u001b[1;33m[\u001b[0m\u001b[1;33m:\u001b[0m\u001b[1;33m,\u001b[0m\u001b[0mcols\u001b[0m\u001b[1;33m]\u001b[0m\u001b[1;33m)\u001b[0m\u001b[1;33m[\u001b[0m\u001b[1;33m:\u001b[0m\u001b[1;33m:\u001b[0m\u001b[1;33m,\u001b[0m\u001b[1;36m1\u001b[0m\u001b[1;33m]\u001b[0m\u001b[1;33m\u001b[0m\u001b[0m\n\u001b[1;32m---> 95\u001b[1;33m             \u001b[0mfpr\u001b[0m\u001b[1;33m,\u001b[0m \u001b[0mtpr\u001b[0m\u001b[1;33m,\u001b[0m \u001b[0m_\u001b[0m  \u001b[1;33m=\u001b[0m \u001b[0msklearn\u001b[0m\u001b[1;33m.\u001b[0m\u001b[0mmetrics\u001b[0m\u001b[1;33m.\u001b[0m\u001b[0mroc_curve\u001b[0m\u001b[1;33m(\u001b[0m\u001b[0my_test\u001b[0m\u001b[1;33m,\u001b[0m  \u001b[0my_pred_proba\u001b[0m\u001b[1;33m)\u001b[0m\u001b[1;33m\u001b[0m\u001b[0m\n\u001b[0m\u001b[0;32m     96\u001b[0m             \u001b[0mauc\u001b[0m          \u001b[1;33m=\u001b[0m \u001b[0msklearn\u001b[0m\u001b[1;33m.\u001b[0m\u001b[0mmetrics\u001b[0m\u001b[1;33m.\u001b[0m\u001b[0mroc_auc_score\u001b[0m\u001b[1;33m(\u001b[0m\u001b[0my_test\u001b[0m\u001b[1;33m,\u001b[0m \u001b[0my_pred_proba\u001b[0m\u001b[1;33m)\u001b[0m\u001b[1;33m\u001b[0m\u001b[0m\n\u001b[0;32m     97\u001b[0m \u001b[1;33m\u001b[0m\u001b[0m\n",
      "\u001b[1;32mC:\\Anaconda3\\lib\\site-packages\\sklearn\\metrics\\ranking.py\u001b[0m in \u001b[0;36mroc_curve\u001b[1;34m(y_true, y_score, pos_label, sample_weight, drop_intermediate)\u001b[0m\n\u001b[0;32m    620\u001b[0m     \"\"\"\n\u001b[0;32m    621\u001b[0m     fps, tps, thresholds = _binary_clf_curve(\n\u001b[1;32m--> 622\u001b[1;33m         y_true, y_score, pos_label=pos_label, sample_weight=sample_weight)\n\u001b[0m\u001b[0;32m    623\u001b[0m \u001b[1;33m\u001b[0m\u001b[0m\n\u001b[0;32m    624\u001b[0m     \u001b[1;31m# Attempt to drop thresholds corresponding to points in between and\u001b[0m\u001b[1;33m\u001b[0m\u001b[1;33m\u001b[0m\u001b[0m\n",
      "\u001b[1;32mC:\\Anaconda3\\lib\\site-packages\\sklearn\\metrics\\ranking.py\u001b[0m in \u001b[0;36m_binary_clf_curve\u001b[1;34m(y_true, y_score, pos_label, sample_weight)\u001b[0m\n\u001b[0;32m    394\u001b[0m     if not (y_type == \"binary\" or\n\u001b[0;32m    395\u001b[0m             (y_type == \"multiclass\" and pos_label is not None)):\n\u001b[1;32m--> 396\u001b[1;33m         \u001b[1;32mraise\u001b[0m \u001b[0mValueError\u001b[0m\u001b[1;33m(\u001b[0m\u001b[1;34m\"{0} format is not supported\"\u001b[0m\u001b[1;33m.\u001b[0m\u001b[0mformat\u001b[0m\u001b[1;33m(\u001b[0m\u001b[0my_type\u001b[0m\u001b[1;33m)\u001b[0m\u001b[1;33m)\u001b[0m\u001b[1;33m\u001b[0m\u001b[0m\n\u001b[0m\u001b[0;32m    397\u001b[0m \u001b[1;33m\u001b[0m\u001b[0m\n\u001b[0;32m    398\u001b[0m     \u001b[0mcheck_consistent_length\u001b[0m\u001b[1;33m(\u001b[0m\u001b[0my_true\u001b[0m\u001b[1;33m,\u001b[0m \u001b[0my_score\u001b[0m\u001b[1;33m,\u001b[0m \u001b[0msample_weight\u001b[0m\u001b[1;33m)\u001b[0m\u001b[1;33m\u001b[0m\u001b[0m\n",
      "\u001b[1;31mValueError\u001b[0m: multiclass format is not supported"
     ]
    }
   ],
   "source": [
    "run_ml(x_train,x_test,y_train,y_test)\n"
   ]
  },
  {
   "cell_type": "code",
   "execution_count": null,
   "metadata": {},
   "outputs": [],
   "source": []
  },
  {
   "cell_type": "code",
   "execution_count": 112,
   "metadata": {},
   "outputs": [],
   "source": [
    "y_predicted = model_rf.predict(x_test)"
   ]
  },
  {
   "cell_type": "code",
   "execution_count": 115,
   "metadata": {},
   "outputs": [
    {
     "data": {
      "text/plain": [
       "0.8292053663570691"
      ]
     },
     "execution_count": 115,
     "metadata": {},
     "output_type": "execute_result"
    }
   ],
   "source": [
    "metrics.accuracy_score(y_pred=y_predicted, y_true=y_t)"
   ]
  },
  {
   "cell_type": "code",
   "execution_count": 116,
   "metadata": {},
   "outputs": [
    {
     "name": "stderr",
     "output_type": "stream",
     "text": [
      "C:\\Anaconda3\\lib\\site-packages\\sklearn\\utils\\validation.py:724: DataConversionWarning: A column-vector y was passed when a 1d array was expected. Please change the shape of y to (n_samples, ), for example using ravel().\n",
      "  y = column_or_1d(y, warn=True)\n"
     ]
    }
   ],
   "source": [
    "from imblearn.over_sampling import SMOTE, ADASYN\n",
    "data_o, target_o = SMOTE().fit_sample(dados_clean.iloc[:,:-1],dados_clean.iloc[:,-1:], )"
   ]
  },
  {
   "cell_type": "code",
   "execution_count": 121,
   "metadata": {},
   "outputs": [
    {
     "data": {
      "text/plain": [
       "array([[<matplotlib.axes._subplots.AxesSubplot object at 0x00000295F6D5DEF0>]],\n",
       "      dtype=object)"
      ]
     },
     "execution_count": 121,
     "metadata": {},
     "output_type": "execute_result"
    },
    {
     "data": {
      "image/png": "[encoded data removed]",
      "text/plain": [
       "<Figure size 432x288 with 1 Axes>"
      ]
     },
     "metadata": {},
     "output_type": "display_data"
    }
   ],
   "source": [
    "pd.DataFrame(target_o).hist()"
   ]
  },
  {
   "cell_type": "code",
   "execution_count": 122,
   "metadata": {},
   "outputs": [],
   "source": [
    "x_train, x_test, y_train, y_test = train_test_split(data_o,target_o, \n",
    "                                                    test_size=0.30, random_state=4)"
   ]
  },
  {
   "cell_type": "code",
   "execution_count": 124,
   "metadata": {},
   "outputs": [
    {
     "data": {
      "text/plain": [
       "0.8977528089887641"
      ]
     },
     "execution_count": 124,
     "metadata": {},
     "output_type": "execute_result"
    }
   ],
   "source": [
    "model_rf.fit(x_train,y_train)\n",
    "y_predicted = model_rf.predict(x_test)\n",
    "metrics.accuracy_score(y_pred=y_predicted, y_true=y_test)"
   ]
  },
  {
   "cell_type": "code",
   "execution_count": null,
   "metadata": {},
   "outputs": [],
   "source": []
  },
  {
   "cell_type": "code",
   "execution_count": null,
   "metadata": {},
   "outputs": [],
   "source": []
  },
  {
   "cell_type": "code",
   "execution_count": null,
   "metadata": {},
   "outputs": [],
   "source": []
  }
 ],
 "metadata": {
  "kernelspec": {
   "display_name": "Python 3",
   "language": "python",
   "name": "python3"
  },
  "language_info": {
   "codemirror_mode": {
    "name": "ipython",
    "version": 3
   },
   "file_extension": ".py",
   "mimetype": "text/x-python",
   "name": "python",
   "nbconvert_exporter": "python",
   "pygments_lexer": "ipython3",
   "version": "3.6.4"
  }
 },
 "nbformat": 4,
 "nbformat_minor": 2
}
