{
 "cells": [
  {
   "cell_type": "code",
   "execution_count": null,
   "metadata": {},
   "outputs": [],
   "source": [
    "# !pip install imblearn\n",
    "# !pip install seaborn"
   ]
  },
  {
   "cell_type": "code",
   "execution_count": 68,
   "metadata": {},
   "outputs": [],
   "source": [
    "import pandas as pd\n",
    "import numpy as np\n",
    "import warnings\n",
    "warnings.filterwarnings('ignore')\n",
    "\n",
    "import sklearn.feature_extraction\n",
    "\n",
    "#from collections import Counter\n",
    "\n",
    "#import sklearn.ensemble\n",
    "from sklearn.model_selection import cross_val_score\n",
    "from sklearn.model_selection import train_test_split\n",
    "import matplotlib.pyplot as plt\n",
    "from sklearn.metrics import confusion_matrix\n",
    "from sklearn.metrics import accuracy_score\n",
    "#import pickle\n",
    "from sklearn import preprocessing\n",
    "from sklearn import metrics\n",
    "from imblearn.over_sampling import SMOTE, ADASYN\n",
    " \n",
    "\n",
    "from sklearn.naive_bayes import MultinomialNB\n",
    "from sklearn.linear_model import LogisticRegression\n",
    "from sklearn.ensemble import RandomForestClassifier\n",
    "from sklearn.svm import LinearSVC\n",
    "from sklearn.linear_model import SGDClassifier\n",
    "from sklearn.svm import SVC\n",
    "from sklearn.pipeline import Pipeline\n",
    "from sklearn.naive_bayes import GaussianNB,BernoulliNB,MultinomialNB\n",
    "from sklearn.ensemble import BaggingClassifier\n",
    "from sklearn.neighbors import KNeighborsClassifier\n",
    "from sklearn.tree import DecisionTreeClassifier\n",
    "from sklearn.ensemble import ExtraTreesClassifier\n",
    "from sklearn.ensemble import AdaBoostClassifier\n",
    "from sklearn.ensemble import GradientBoostingClassifier,BaggingClassifier\n",
    "from sklearn import svm\n",
    "\n",
    "%matplotlib inline\n"
   ]
  },
  {
   "cell_type": "code",
   "execution_count": 2,
   "metadata": {},
   "outputs": [],
   "source": [
    "global plotAu, grid_vc, plotCm\n",
    "plotAuc = False\n",
    "grid_vc = False\n",
    "plotCm  = False\n",
    "feat_import = False"
   ]
  },
  {
   "cell_type": "code",
   "execution_count": 3,
   "metadata": {},
   "outputs": [],
   "source": [
    "##### FUNCTIONS #####\n",
    "\n",
    "## função para plotar matriz de confusão\n",
    "def plot_cm(cm, labels):\n",
    "    \n",
    "    # calcula porcentagens \n",
    "    percent = (cm*100.0)/np.array(np.matrix(cm.sum(axis=1)).T)\n",
    "    \n",
    "    print('Confusion Matrix Stats')\n",
    "    for i, label_i in enumerate(labels):\n",
    "        for j, label_j in enumerate(labels):\n",
    "            print(\"%s/%s: %.2f%% (%d/%d)\" % (label_i, label_j, (percent[i][j]), cm[i][j], cm[i].sum()) )\n",
    "\n",
    "    # Show confusion matrix\n",
    "    fig = plt.figure()\n",
    "    ax = fig.add_subplot(111)\n",
    "    ax.grid(b=False)\n",
    "    cax = ax.matshow(percent, cmap='coolwarm')\n",
    "    plt.title('Confusion matrix of the classifier')\n",
    "    fig.colorbar(cax)\n",
    "    ax.set_xticklabels([''] + labels)\n",
    "    ax.set_yticklabels([''] + labels)\n",
    "    plt.xlabel('Predicted')\n",
    "    plt.ylabel('True')\n",
    "    plt.show()\n",
    "    \n",
    "## function to plot AUC Curve \n",
    "def plot_auc_curve(text_clf, X_test, y_test):\n",
    "    y_pred_proba = text_clf.predict_proba(X_test)[::,1]\n",
    "    fpr, tpr, _  = sklearn.metrics.roc_curve(y_test,  y_pred_proba)\n",
    "    auc          = sklearn.metrics.roc_auc_score(y_test, y_pred_proba)\n",
    "\n",
    "    plt.plot(fpr,tpr,label=\"data 1, auc=\"+str(auc))\n",
    "    plt.legend(loc=4)\n",
    "    plt.show()\n",
    "\n",
    "## FUNCTION TO RUN MODEL OF THE ML\n",
    "def run_ml(modelos, X_train,X_test,y_train,y_test):\n",
    "    \n",
    "    for m in modelos:\n",
    "        print(\"\\n==>\",m.__class__.__name__)\n",
    "        text_clf = Pipeline([('clf', m )])\n",
    "\n",
    "        text_clf  = text_clf.fit(np.asarray(X_train), y_train)\n",
    "        predicted = text_clf.predict(np.asarray(X_test))\n",
    "        print(\"  Accuracy  = %f \\n\" % accuracy_score(y_test, predicted))\n",
    "        labels = list(np.unique(y_train)) #[0,1]\n",
    "        cm     = confusion_matrix(y_test, predicted,labels=labels)\n",
    "        \n",
    "        if plotCm:\n",
    "            plot_cm(cm,labels)\n",
    "\n",
    "        if hasattr(text_clf, 'predict_proba') and plotAuc:\n",
    "            plot_auc_curve(text_clf, X_test, y_test)\n",
    "\n",
    "    print(\"================================================================================================\")\n",
    "\n",
    "    ##  CHECKING FEATURES IMPORTANCES \n",
    "    if feat_import:\n",
    "        for m in modelos:\n",
    "            print(\"\\n==>\",m.__class__.__name__)\n",
    "            cols = X_train.columns\n",
    "            m.fit(np.asarray(X_train),y_train)\n",
    "\n",
    "            if hasattr(m, 'feature_importances_'):\n",
    "                x_labels = X_train.columns[:]\n",
    "                prob     = list()        \n",
    "                cols     = list()        \n",
    "                features = m.feature_importances_\n",
    "                for i,l in zip(x_labels,features):\n",
    "                    if l*100 > int( np.mean(features)*100 ):\n",
    "                        cols.append(i)\n",
    "                print(\"  Cols: \", cols)\n",
    "\n",
    "            text_clf  = m.fit(np.asarray(X_train.loc[:,cols]), y_train)\n",
    "            predicted = text_clf.predict(np.asarray(X_test.loc[:,cols]))\n",
    "\n",
    "            print(\"  Accuracy  = %f \\n\" % accuracy_score(y_test, predicted))\n",
    "            labels = list(np.unique(y_train)) #[0,1]\n",
    "            cm     = confusion_matrix(y_test, predicted,labels=labels)    \n",
    "\n",
    "            if plotCm:\n",
    "                plot_cm(cm,labels)\n",
    "\n",
    "            if hasattr(text_clf, 'predict_proba') and plotAuc:\n",
    "                plot_auc_curve(text_clf, X_test.loc[:,cols], y_test)\n",
    "\n"
   ]
  },
  {
   "cell_type": "code",
   "execution_count": 4,
   "metadata": {},
   "outputs": [],
   "source": [
    "dados = pd.read_csv(\"winequality.csv\", sep = ';')"
   ]
  },
  {
   "cell_type": "code",
   "execution_count": 5,
   "metadata": {
    "scrolled": true
   },
   "outputs": [
    {
     "name": "stdout",
     "output_type": "stream",
     "text": [
      "<class 'pandas.core.frame.DataFrame'>\n",
      "RangeIndex: 6497 entries, 0 to 6496\n",
      "Data columns (total 13 columns):\n",
      "type                    6497 non-null object\n",
      "fixed acidity           6497 non-null float64\n",
      "volatile acidity        6497 non-null float64\n",
      "citric acid             6497 non-null float64\n",
      "residual sugar          6497 non-null float64\n",
      "chlorides               6497 non-null float64\n",
      "free sulfur dioxide     6497 non-null float64\n",
      "total sulfur dioxide    6497 non-null float64\n",
      "density                 6497 non-null float64\n",
      "pH                      6497 non-null float64\n",
      "sulphates               6497 non-null float64\n",
      "alcohol                 6497 non-null object\n",
      "quality                 6497 non-null int64\n",
      "dtypes: float64(10), int64(1), object(2)\n",
      "memory usage: 659.9+ KB\n"
     ]
    }
   ],
   "source": [
    "dados.info()"
   ]
  },
  {
   "cell_type": "code",
   "execution_count": 27,
   "metadata": {},
   "outputs": [],
   "source": [
    "dados.columns = ['type', 'fixed_acidity', 'volatile_acidity', 'citric_acid','residual_sugar',\n",
    "                 'chlorides', 'free_sulfur_dioxide','total_sulfur_dioxide', 'density', 'pH',\n",
    "                 'sulphates', 'alcohol','quality']"
   ]
  },
  {
   "cell_type": "code",
   "execution_count": 28,
   "metadata": {},
   "outputs": [
    {
     "data": {
      "text/plain": [
       "False"
      ]
     },
     "execution_count": 28,
     "metadata": {},
     "output_type": "execute_result"
    }
   ],
   "source": [
    "dados.isnull().values.any()"
   ]
  },
  {
   "cell_type": "code",
   "execution_count": null,
   "metadata": {
    "scrolled": true
   },
   "outputs": [],
   "source": []
  },
  {
   "cell_type": "code",
   "execution_count": 7,
   "metadata": {
    "scrolled": true
   },
   "outputs": [],
   "source": [
    "## identificando registros inconsistentes na coluna alcohol\n",
    "lista = list()\n",
    "for i,a in dados.iterrows():\n",
    "    if len(a[\"alcohol\"]) > 5:\n",
    "        #print(i,a[\"alcohol\"])\n",
    "        lista.append(i)"
   ]
  },
  {
   "cell_type": "code",
   "execution_count": null,
   "metadata": {},
   "outputs": [],
   "source": []
  },
  {
   "cell_type": "code",
   "execution_count": 8,
   "metadata": {
    "scrolled": true
   },
   "outputs": [],
   "source": [
    "indices  = dados.loc[lista,\"quality\"].value_counts().index#.plot(kind = 'bar')"
   ]
  },
  {
   "cell_type": "code",
   "execution_count": 9,
   "metadata": {},
   "outputs": [],
   "source": [
    "dados_clean = dados.iloc[~dados.index.isin(lista),:]\n",
    "dados_clean.alcohol = pd.to_numeric(dados_clean.alcohol)"
   ]
  },
  {
   "cell_type": "code",
   "execution_count": 10,
   "metadata": {},
   "outputs": [],
   "source": [
    "## SUBSTITUINDO VALORES INCORRETOS NA COLUNA alcohol\n",
    "for i in indices:\n",
    "    media = dados_clean.loc[dados_clean.quality == i,'alcohol'].mean()\n",
    "    dados.loc[(dados.quality == i) & (dados.index.isin(lista)),'alcohol'] = media\n",
    "    \n",
    "## CONVERTENDO COLUNA PARA TIPO NUMERICO\n",
    "dados.alcohol = pd.to_numeric(dados.alcohol)"
   ]
  },
  {
   "cell_type": "code",
   "execution_count": null,
   "metadata": {
    "scrolled": true
   },
   "outputs": [],
   "source": []
  },
  {
   "cell_type": "code",
   "execution_count": 11,
   "metadata": {},
   "outputs": [],
   "source": [
    "## CONVERTENDO COLUNA PARA TIPO NUMERICO\n",
    "label_type    = preprocessing.LabelEncoder()\n",
    "dados[\"type\"] = label_type.fit_transform(dados.type)"
   ]
  },
  {
   "cell_type": "code",
   "execution_count": null,
   "metadata": {},
   "outputs": [],
   "source": []
  },
  {
   "cell_type": "code",
   "execution_count": 12,
   "metadata": {
    "scrolled": true
   },
   "outputs": [],
   "source": [
    "#dados.iloc[~dados.index.isin(lista)]"
   ]
  },
  {
   "cell_type": "code",
   "execution_count": 13,
   "metadata": {},
   "outputs": [],
   "source": [
    "# eliminando registro inconsistentes\n",
    "#dados = dados.drop(index=lista)"
   ]
  },
  {
   "cell_type": "code",
   "execution_count": 14,
   "metadata": {},
   "outputs": [],
   "source": [
    "#dados.alcohol = pd.to_numeric(dados.alcohol)"
   ]
  },
  {
   "cell_type": "code",
   "execution_count": 29,
   "metadata": {},
   "outputs": [
    {
     "data": {
      "text/html": [
       "<div>\n",
       "<style scoped>\n",
       "    .dataframe tbody tr th:only-of-type {\n",
       "        vertical-align: middle;\n",
       "    }\n",
       "\n",
       "    .dataframe tbody tr th {\n",
       "        vertical-align: top;\n",
       "    }\n",
       "\n",
       "    .dataframe thead th {\n",
       "        text-align: right;\n",
       "    }\n",
       "</style>\n",
       "<table border=\"1\" class=\"dataframe\">\n",
       "  <thead>\n",
       "    <tr style=\"text-align: right;\">\n",
       "      <th></th>\n",
       "      <th>type</th>\n",
       "      <th>fixed_acidity</th>\n",
       "      <th>volatile_acidity</th>\n",
       "      <th>citric_acid</th>\n",
       "      <th>residual_sugar</th>\n",
       "      <th>chlorides</th>\n",
       "      <th>free_sulfur_dioxide</th>\n",
       "      <th>total_sulfur_dioxide</th>\n",
       "      <th>density</th>\n",
       "      <th>pH</th>\n",
       "      <th>sulphates</th>\n",
       "      <th>alcohol</th>\n",
       "    </tr>\n",
       "  </thead>\n",
       "  <tbody>\n",
       "    <tr>\n",
       "      <th>0</th>\n",
       "      <td>1</td>\n",
       "      <td>7.0</td>\n",
       "      <td>0.27</td>\n",
       "      <td>0.36</td>\n",
       "      <td>20.7</td>\n",
       "      <td>0.045</td>\n",
       "      <td>45.0</td>\n",
       "      <td>170.0</td>\n",
       "      <td>1.0010</td>\n",
       "      <td>3.00</td>\n",
       "      <td>0.45</td>\n",
       "      <td>8.8</td>\n",
       "    </tr>\n",
       "    <tr>\n",
       "      <th>1</th>\n",
       "      <td>1</td>\n",
       "      <td>6.3</td>\n",
       "      <td>0.30</td>\n",
       "      <td>0.34</td>\n",
       "      <td>1.6</td>\n",
       "      <td>0.049</td>\n",
       "      <td>14.0</td>\n",
       "      <td>132.0</td>\n",
       "      <td>0.9940</td>\n",
       "      <td>3.30</td>\n",
       "      <td>0.49</td>\n",
       "      <td>9.5</td>\n",
       "    </tr>\n",
       "    <tr>\n",
       "      <th>2</th>\n",
       "      <td>1</td>\n",
       "      <td>8.1</td>\n",
       "      <td>0.28</td>\n",
       "      <td>0.40</td>\n",
       "      <td>6.9</td>\n",
       "      <td>0.050</td>\n",
       "      <td>30.0</td>\n",
       "      <td>97.0</td>\n",
       "      <td>0.9951</td>\n",
       "      <td>3.26</td>\n",
       "      <td>0.44</td>\n",
       "      <td>10.1</td>\n",
       "    </tr>\n",
       "    <tr>\n",
       "      <th>3</th>\n",
       "      <td>1</td>\n",
       "      <td>7.2</td>\n",
       "      <td>0.23</td>\n",
       "      <td>0.32</td>\n",
       "      <td>8.5</td>\n",
       "      <td>0.058</td>\n",
       "      <td>47.0</td>\n",
       "      <td>186.0</td>\n",
       "      <td>0.9956</td>\n",
       "      <td>3.19</td>\n",
       "      <td>0.40</td>\n",
       "      <td>9.9</td>\n",
       "    </tr>\n",
       "    <tr>\n",
       "      <th>4</th>\n",
       "      <td>1</td>\n",
       "      <td>7.2</td>\n",
       "      <td>0.23</td>\n",
       "      <td>0.32</td>\n",
       "      <td>8.5</td>\n",
       "      <td>0.058</td>\n",
       "      <td>47.0</td>\n",
       "      <td>186.0</td>\n",
       "      <td>0.9956</td>\n",
       "      <td>3.19</td>\n",
       "      <td>0.40</td>\n",
       "      <td>9.9</td>\n",
       "    </tr>\n",
       "  </tbody>\n",
       "</table>\n",
       "</div>"
      ],
      "text/plain": [
       "   type  fixed_acidity  volatile_acidity  citric_acid  residual_sugar  \\\n",
       "0     1            7.0              0.27         0.36            20.7   \n",
       "1     1            6.3              0.30         0.34             1.6   \n",
       "2     1            8.1              0.28         0.40             6.9   \n",
       "3     1            7.2              0.23         0.32             8.5   \n",
       "4     1            7.2              0.23         0.32             8.5   \n",
       "\n",
       "   chlorides  free_sulfur_dioxide  total_sulfur_dioxide  density    pH  \\\n",
       "0      0.045                 45.0                 170.0   1.0010  3.00   \n",
       "1      0.049                 14.0                 132.0   0.9940  3.30   \n",
       "2      0.050                 30.0                  97.0   0.9951  3.26   \n",
       "3      0.058                 47.0                 186.0   0.9956  3.19   \n",
       "4      0.058                 47.0                 186.0   0.9956  3.19   \n",
       "\n",
       "   sulphates  alcohol  \n",
       "0       0.45      8.8  \n",
       "1       0.49      9.5  \n",
       "2       0.44     10.1  \n",
       "3       0.40      9.9  \n",
       "4       0.40      9.9  "
      ]
     },
     "execution_count": 29,
     "metadata": {},
     "output_type": "execute_result"
    }
   ],
   "source": [
    "x = dados.iloc[:,:-1]\n",
    "quality = dados.iloc[:,-1:]\n",
    "x.head()\n"
   ]
  },
  {
   "cell_type": "code",
   "execution_count": 110,
   "metadata": {},
   "outputs": [
    {
     "data": {
      "image/png": "[encoded data removed]",
      "text/plain": [
       "<Figure size 1080x1080 with 12 Axes>"
      ]
     },
     "metadata": {
      "needs_background": "light"
     },
     "output_type": "display_data"
    }
   ],
   "source": [
    "#plt.figure(figsize=(10,10))\n",
    "x.iloc[:,:].hist(figsize=(15,15))\n",
    "plt.show()"
   ]
  },
  {
   "cell_type": "code",
   "execution_count": null,
   "metadata": {},
   "outputs": [],
   "source": []
  },
  {
   "cell_type": "code",
   "execution_count": 32,
   "metadata": {},
   "outputs": [
    {
     "name": "stderr",
     "output_type": "stream",
     "text": [
      "/home/jupyter_venv/lib/python3.4/site-packages/ipykernel_launcher.py:1: DataConversionWarning: Data with input dtype int64, float64 were all converted to float64 by the scale function.\n",
      "  \"\"\"Entry point for launching an IPython kernel.\n"
     ]
    },
    {
     "data": {
      "image/png": "[encoded data removed]",
      "text/plain": [
       "<Figure size 1080x1080 with 12 Axes>"
      ]
     },
     "metadata": {
      "needs_background": "light"
     },
     "output_type": "display_data"
    }
   ],
   "source": [
    "x_norm = preprocessing.scale(x)\n",
    "x_norm = pd.DataFrame(x_norm, columns=x.columns)\n",
    "\n",
    "x_norm.iloc[:,:].hist(figsize=(15,15))\n",
    "plt.show()"
   ]
  },
  {
   "cell_type": "code",
   "execution_count": null,
   "metadata": {},
   "outputs": [],
   "source": []
  },
  {
   "cell_type": "code",
   "execution_count": 33,
   "metadata": {},
   "outputs": [
    {
     "data": {
      "image/png": "[encoded data removed]",
      "text/plain": [
       "<Figure size 864x720 with 2 Axes>"
      ]
     },
     "metadata": {
      "needs_background": "light"
     },
     "output_type": "display_data"
    }
   ],
   "source": [
    "import seaborn as sns\n",
    "corr = dados.corr()\n",
    "_ , ax = plt.subplots( figsize =( 12 , 10 ) )\n",
    "\n",
    "cmap = sns.diverging_palette( 220 , 10 , as_cmap = True )\n",
    "_ = sns.heatmap(corr, cmap = cmap, square=True, cbar_kws={ 'shrink' : .9 }, ax=ax, annot = True, annot_kws = {'fontsize' : 12 })\n",
    "\n"
   ]
  },
  {
   "cell_type": "code",
   "execution_count": null,
   "metadata": {},
   "outputs": [],
   "source": [
    "# type - total_sulfur_dioxide\n",
    "# free sulfur - total sulfur dioxide\n"
   ]
  },
  {
   "cell_type": "markdown",
   "metadata": {},
   "source": [
    "# <font color = 'red'> 1 - MODELOS COM 3 CLASSES </font>"
   ]
  },
  {
   "cell_type": "code",
   "execution_count": 34,
   "metadata": {},
   "outputs": [],
   "source": [
    "#Defining the splits for categories. 1–4 will be poor quality, 5–6 will be average, 7–10 will be great\n",
    "bins = [1,4,6,10]\n",
    "\n",
    "#0 for low quality, 1 for average, 2 for great quality\n",
    "quality_labels=[0,1,2]\n",
    "\n",
    "y = pd.cut(dados['quality'], bins=bins, labels=quality_labels, include_lowest=True)"
   ]
  },
  {
   "cell_type": "code",
   "execution_count": null,
   "metadata": {},
   "outputs": [],
   "source": []
  },
  {
   "cell_type": "code",
   "execution_count": 35,
   "metadata": {},
   "outputs": [
    {
     "data": {
      "text/plain": [
       "<matplotlib.axes._subplots.AxesSubplot at 0x7fb0baf8b668>"
      ]
     },
     "execution_count": 35,
     "metadata": {},
     "output_type": "execute_result"
    },
    {
     "data": {
      "image/png": "[encoded data removed]",
      "text/plain": [
       "<Figure size 432x288 with 1 Axes>"
      ]
     },
     "metadata": {
      "needs_background": "light"
     },
     "output_type": "display_data"
    }
   ],
   "source": [
    "y.hist() #loc[:,'class'].hist()"
   ]
  },
  {
   "cell_type": "code",
   "execution_count": 36,
   "metadata": {
    "scrolled": true
   },
   "outputs": [],
   "source": [
    "#dados_clean = dados.drop(columns=['quality'])"
   ]
  },
  {
   "cell_type": "code",
   "execution_count": 37,
   "metadata": {},
   "outputs": [],
   "source": [
    "#dados_clean.head()"
   ]
  },
  {
   "cell_type": "code",
   "execution_count": 46,
   "metadata": {},
   "outputs": [],
   "source": [
    "x_train, x_test, y_train, y_test = train_test_split(x, y,test_size=0.20, random_state=4)"
   ]
  },
  {
   "cell_type": "code",
   "execution_count": null,
   "metadata": {},
   "outputs": [],
   "source": []
  },
  {
   "cell_type": "code",
   "execution_count": 47,
   "metadata": {},
   "outputs": [
    {
     "data": {
      "text/html": [
       "<div>\n",
       "<style scoped>\n",
       "    .dataframe tbody tr th:only-of-type {\n",
       "        vertical-align: middle;\n",
       "    }\n",
       "\n",
       "    .dataframe tbody tr th {\n",
       "        vertical-align: top;\n",
       "    }\n",
       "\n",
       "    .dataframe thead th {\n",
       "        text-align: right;\n",
       "    }\n",
       "</style>\n",
       "<table border=\"1\" class=\"dataframe\">\n",
       "  <thead>\n",
       "    <tr style=\"text-align: right;\">\n",
       "      <th></th>\n",
       "      <th>type</th>\n",
       "      <th>fixed_acidity</th>\n",
       "      <th>volatile_acidity</th>\n",
       "      <th>citric_acid</th>\n",
       "      <th>residual_sugar</th>\n",
       "      <th>chlorides</th>\n",
       "      <th>free_sulfur_dioxide</th>\n",
       "      <th>total_sulfur_dioxide</th>\n",
       "      <th>density</th>\n",
       "      <th>pH</th>\n",
       "      <th>sulphates</th>\n",
       "      <th>alcohol</th>\n",
       "    </tr>\n",
       "  </thead>\n",
       "  <tbody>\n",
       "    <tr>\n",
       "      <th>6189</th>\n",
       "      <td>0</td>\n",
       "      <td>8.2</td>\n",
       "      <td>0.635</td>\n",
       "      <td>0.10</td>\n",
       "      <td>2.10</td>\n",
       "      <td>0.073</td>\n",
       "      <td>25.0</td>\n",
       "      <td>60.0</td>\n",
       "      <td>0.99638</td>\n",
       "      <td>3.29</td>\n",
       "      <td>0.75</td>\n",
       "      <td>10.9</td>\n",
       "    </tr>\n",
       "    <tr>\n",
       "      <th>4914</th>\n",
       "      <td>0</td>\n",
       "      <td>8.5</td>\n",
       "      <td>0.280</td>\n",
       "      <td>0.56</td>\n",
       "      <td>1.80</td>\n",
       "      <td>0.092</td>\n",
       "      <td>35.0</td>\n",
       "      <td>103.0</td>\n",
       "      <td>0.99690</td>\n",
       "      <td>3.30</td>\n",
       "      <td>0.75</td>\n",
       "      <td>10.5</td>\n",
       "    </tr>\n",
       "    <tr>\n",
       "      <th>5978</th>\n",
       "      <td>0</td>\n",
       "      <td>10.3</td>\n",
       "      <td>0.270</td>\n",
       "      <td>0.56</td>\n",
       "      <td>1.40</td>\n",
       "      <td>0.047</td>\n",
       "      <td>3.0</td>\n",
       "      <td>8.0</td>\n",
       "      <td>0.99471</td>\n",
       "      <td>3.16</td>\n",
       "      <td>0.51</td>\n",
       "      <td>11.8</td>\n",
       "    </tr>\n",
       "    <tr>\n",
       "      <th>4651</th>\n",
       "      <td>1</td>\n",
       "      <td>5.7</td>\n",
       "      <td>0.390</td>\n",
       "      <td>0.25</td>\n",
       "      <td>4.90</td>\n",
       "      <td>0.033</td>\n",
       "      <td>49.0</td>\n",
       "      <td>113.0</td>\n",
       "      <td>0.98966</td>\n",
       "      <td>3.26</td>\n",
       "      <td>0.58</td>\n",
       "      <td>13.1</td>\n",
       "    </tr>\n",
       "    <tr>\n",
       "      <th>4056</th>\n",
       "      <td>1</td>\n",
       "      <td>6.5</td>\n",
       "      <td>0.430</td>\n",
       "      <td>0.18</td>\n",
       "      <td>13.15</td>\n",
       "      <td>0.032</td>\n",
       "      <td>25.0</td>\n",
       "      <td>131.0</td>\n",
       "      <td>0.99565</td>\n",
       "      <td>3.23</td>\n",
       "      <td>0.51</td>\n",
       "      <td>10.7</td>\n",
       "    </tr>\n",
       "  </tbody>\n",
       "</table>\n",
       "</div>"
      ],
      "text/plain": [
       "      type  fixed_acidity  volatile_acidity  citric_acid  residual_sugar  \\\n",
       "6189     0            8.2             0.635         0.10            2.10   \n",
       "4914     0            8.5             0.280         0.56            1.80   \n",
       "5978     0           10.3             0.270         0.56            1.40   \n",
       "4651     1            5.7             0.390         0.25            4.90   \n",
       "4056     1            6.5             0.430         0.18           13.15   \n",
       "\n",
       "      chlorides  free_sulfur_dioxide  total_sulfur_dioxide  density    pH  \\\n",
       "6189      0.073                 25.0                  60.0  0.99638  3.29   \n",
       "4914      0.092                 35.0                 103.0  0.99690  3.30   \n",
       "5978      0.047                  3.0                   8.0  0.99471  3.16   \n",
       "4651      0.033                 49.0                 113.0  0.98966  3.26   \n",
       "4056      0.032                 25.0                 131.0  0.99565  3.23   \n",
       "\n",
       "      sulphates  alcohol  \n",
       "6189       0.75     10.9  \n",
       "4914       0.75     10.5  \n",
       "5978       0.51     11.8  \n",
       "4651       0.58     13.1  \n",
       "4056       0.51     10.7  "
      ]
     },
     "execution_count": 47,
     "metadata": {},
     "output_type": "execute_result"
    }
   ],
   "source": [
    "x_train.head()\n",
    "#y_train"
   ]
  },
  {
   "cell_type": "code",
   "execution_count": 48,
   "metadata": {},
   "outputs": [
    {
     "data": {
      "text/plain": [
       "<matplotlib.axes._subplots.AxesSubplot at 0x7fb0bac22390>"
      ]
     },
     "execution_count": 48,
     "metadata": {},
     "output_type": "execute_result"
    },
    {
     "data": {
      "image/png": "[encoded data removed]",
      "text/plain": [
       "<Figure size 432x288 with 1 Axes>"
      ]
     },
     "metadata": {
      "needs_background": "light"
     },
     "output_type": "display_data"
    }
   ],
   "source": [
    "y_train.hist()"
   ]
  },
  {
   "cell_type": "code",
   "execution_count": 49,
   "metadata": {},
   "outputs": [
    {
     "data": {
      "text/plain": [
       "<matplotlib.axes._subplots.AxesSubplot at 0x7fb0babce9b0>"
      ]
     },
     "execution_count": 49,
     "metadata": {},
     "output_type": "execute_result"
    },
    {
     "data": {
      "image/png": "[encoded data removed]",
      "text/plain": [
       "<Figure size 432x288 with 1 Axes>"
      ]
     },
     "metadata": {
      "needs_background": "light"
     },
     "output_type": "display_data"
    }
   ],
   "source": [
    "y_test.hist()"
   ]
  },
  {
   "cell_type": "code",
   "execution_count": null,
   "metadata": {},
   "outputs": [],
   "source": [
    "modelos = [ SVC(),#C= 10, gamma= 0.001, kernel= 'linear', probability= False),\n",
    "            RandomForestClassifier(),#criterion='entropy', max_depth= None, max_features='sqrt',n_estimators= 10000),\n",
    "            LogisticRegression(),#solver='lbfgs',multi_class='multinomial',class_weight='balanced',random_state=0),\n",
    "            KNeighborsClassifier(),#n_neighbors=11),\n",
    "            ]"
   ]
  },
  {
   "cell_type": "code",
   "execution_count": 57,
   "metadata": {
    "scrolled": true
   },
   "outputs": [
    {
     "name": "stdout",
     "output_type": "stream",
     "text": [
      "\n",
      "==> SVC\n",
      "  Accuracy  = 0.782308 \n",
      "\n",
      "\n",
      "==> RandomForestClassifier\n",
      "  Accuracy  = 0.825385 \n",
      "\n",
      "\n",
      "==> LogisticRegression\n",
      "  Accuracy  = 0.773077 \n",
      "\n",
      "\n",
      "==> KNeighborsClassifier\n",
      "  Accuracy  = 0.753846 \n",
      "\n",
      "================================================================================================\n",
      "\n",
      "==> SVC\n",
      "  Accuracy  = 0.782308 \n",
      "\n",
      "\n",
      "==> RandomForestClassifier\n",
      "  Cols:  ['volatile_acidity', 'residual_sugar', 'total_sulfur_dioxide', 'density', 'pH', 'sulphates', 'alcohol']\n",
      "  Accuracy  = 0.822308 \n",
      "\n",
      "\n",
      "==> LogisticRegression\n",
      "  Accuracy  = 0.773077 \n",
      "\n",
      "\n",
      "==> KNeighborsClassifier\n",
      "  Accuracy  = 0.753846 \n",
      "\n"
     ]
    }
   ],
   "source": [
    "feat_import = True\n",
    "run_ml(modelos, x_train,x_test,y_train,y_test)\n"
   ]
  },
  {
   "cell_type": "code",
   "execution_count": null,
   "metadata": {
    "scrolled": true
   },
   "outputs": [],
   "source": []
  },
  {
   "cell_type": "code",
   "execution_count": 58,
   "metadata": {
    "scrolled": true
   },
   "outputs": [
    {
     "name": "stdout",
     "output_type": "stream",
     "text": [
      "\n",
      "==> SVC\n",
      "  Accuracy  = 0.782308 \n",
      "\n",
      "\n",
      "==> RandomForestClassifier\n",
      "  Accuracy  = 0.822308 \n",
      "\n",
      "\n",
      "==> LogisticRegression\n",
      "  Accuracy  = 0.771538 \n",
      "\n",
      "\n",
      "==> KNeighborsClassifier\n",
      "  Accuracy  = 0.753846 \n",
      "\n",
      "================================================================================================\n",
      "\n",
      "==> SVC\n",
      "  Accuracy  = 0.782308 \n",
      "\n",
      "\n",
      "==> RandomForestClassifier\n",
      "  Cols:  ['volatile_acidity', 'density', 'sulphates', 'alcohol']\n",
      "  Accuracy  = 0.804615 \n",
      "\n",
      "\n",
      "==> LogisticRegression\n",
      "  Accuracy  = 0.771538 \n",
      "\n",
      "\n",
      "==> KNeighborsClassifier\n",
      "  Accuracy  = 0.753846 \n",
      "\n"
     ]
    }
   ],
   "source": [
    "### SEM A COLUNA TYPE\n",
    "feat_import = True\n",
    "run_ml(modelos, x_train.iloc[:,1:],x_test.iloc[:,1:],y_train,y_test)\n"
   ]
  },
  {
   "cell_type": "code",
   "execution_count": null,
   "metadata": {},
   "outputs": [],
   "source": []
  },
  {
   "cell_type": "code",
   "execution_count": null,
   "metadata": {},
   "outputs": [],
   "source": []
  },
  {
   "cell_type": "markdown",
   "metadata": {},
   "source": [
    "### <font color = 'red'>  1.1 - MODELOS COM DADOS BALANCEADOS </font>"
   ]
  },
  {
   "cell_type": "code",
   "execution_count": null,
   "metadata": {},
   "outputs": [],
   "source": []
  },
  {
   "cell_type": "code",
   "execution_count": 52,
   "metadata": {
    "scrolled": true
   },
   "outputs": [],
   "source": [
    "data_o, target_o = SMOTE().fit_sample(x,y)\n",
    "data_o = pd.DataFrame(data_o, columns= x.columns)\n",
    "target_o = pd.DataFrame(target_o, columns= dados_clean.iloc[:,-1:].columns)\n",
    "\n",
    "#data_o.head()"
   ]
  },
  {
   "cell_type": "code",
   "execution_count": 59,
   "metadata": {
    "scrolled": true
   },
   "outputs": [
    {
     "name": "stdout",
     "output_type": "stream",
     "text": [
      "\n",
      "==> SVC\n",
      "  Accuracy  = 0.870687 \n",
      "\n",
      "\n",
      "==> RandomForestClassifier\n",
      "  Accuracy  = 0.910888 \n",
      "\n",
      "\n",
      "==> LogisticRegression\n",
      "  Accuracy  = 0.658961 \n",
      "\n",
      "\n",
      "==> GradientBoostingClassifier\n",
      "  Accuracy  = 0.816750 \n",
      "\n",
      "\n",
      "==> KNeighborsClassifier\n",
      "  Accuracy  = 0.821441 \n",
      "\n",
      "================================================================================================\n",
      "\n",
      "==> SVC\n",
      "  Accuracy  = 0.870687 \n",
      "\n",
      "\n",
      "==> RandomForestClassifier\n",
      "  Cols:  ['volatile_acidity', 'free_sulfur_dioxide', 'total_sulfur_dioxide', 'density', 'sulphates', 'alcohol']\n",
      "  Accuracy  = 0.889447 \n",
      "\n",
      "\n",
      "==> LogisticRegression\n",
      "  Accuracy  = 0.658961 \n",
      "\n",
      "\n",
      "==> GradientBoostingClassifier\n",
      "  Cols:  ['volatile_acidity', 'free_sulfur_dioxide', 'alcohol']\n",
      "  Accuracy  = 0.768844 \n",
      "\n",
      "\n",
      "==> KNeighborsClassifier\n",
      "  Accuracy  = 0.821441 \n",
      "\n"
     ]
    }
   ],
   "source": [
    "x_train_balanc, x_test_balanc, y_train_balanc, y_test_balanc = train_test_split(data_o,\n",
    "                                                                                target_o, \n",
    "                                                    test_size=0.20, random_state=4)\n",
    "\n",
    "feat_import = True\n",
    "run_ml(modelos, x_train_balanc,x_test_balanc,y_train_balanc,y_test_balanc)\n"
   ]
  },
  {
   "cell_type": "code",
   "execution_count": 60,
   "metadata": {
    "scrolled": true
   },
   "outputs": [
    {
     "name": "stdout",
     "output_type": "stream",
     "text": [
      "\n",
      "==> SVC\n",
      "  Accuracy  = 0.871357 \n",
      "\n",
      "\n",
      "==> RandomForestClassifier\n",
      "  Accuracy  = 0.900503 \n",
      "\n",
      "\n",
      "==> LogisticRegression\n",
      "  Accuracy  = 0.630151 \n",
      "\n",
      "\n",
      "==> GradientBoostingClassifier\n",
      "  Accuracy  = 0.816080 \n",
      "\n",
      "\n",
      "==> KNeighborsClassifier\n",
      "  Accuracy  = 0.822446 \n",
      "\n",
      "================================================================================================\n",
      "\n",
      "==> SVC\n",
      "  Accuracy  = 0.871357 \n",
      "\n",
      "\n",
      "==> RandomForestClassifier\n",
      "  Cols:  ['volatile_acidity', 'free_sulfur_dioxide', 'total_sulfur_dioxide', 'density', 'alcohol']\n",
      "  Accuracy  = 0.880737 \n",
      "\n",
      "\n",
      "==> LogisticRegression\n",
      "  Accuracy  = 0.630151 \n",
      "\n",
      "\n",
      "==> GradientBoostingClassifier\n",
      "  Cols:  ['volatile_acidity', 'free_sulfur_dioxide', 'sulphates', 'alcohol']\n",
      "  Accuracy  = 0.783250 \n",
      "\n",
      "\n",
      "==> KNeighborsClassifier\n",
      "  Accuracy  = 0.822446 \n",
      "\n"
     ]
    }
   ],
   "source": [
    "## MODELO SEM COLUNA TYPE\n",
    "feat_import = True\n",
    "run_ml(modelos, x_train_balanc.iloc[:,1:],x_test_balanc.iloc[:,1:],y_train_balanc,y_test_balanc)\n"
   ]
  },
  {
   "cell_type": "code",
   "execution_count": null,
   "metadata": {},
   "outputs": [],
   "source": []
  },
  {
   "cell_type": "markdown",
   "metadata": {},
   "source": [
    "### <font color = 'red'>  1.2 - MODELOS (3 CLASSES) COM DADOS NORMALIZADOS </font>\n"
   ]
  },
  {
   "cell_type": "code",
   "execution_count": 61,
   "metadata": {
    "scrolled": true
   },
   "outputs": [
    {
     "name": "stdout",
     "output_type": "stream",
     "text": [
      "\n",
      "==> SVC\n",
      "  Accuracy  = 0.787692 \n",
      "\n",
      "\n",
      "==> RandomForestClassifier\n",
      "  Accuracy  = 0.832308 \n",
      "\n",
      "\n",
      "==> LogisticRegression\n",
      "  Accuracy  = 0.780000 \n",
      "\n",
      "\n",
      "==> GradientBoostingClassifier\n",
      "  Accuracy  = 0.799231 \n",
      "\n",
      "\n",
      "==> KNeighborsClassifier\n",
      "  Accuracy  = 0.799231 \n",
      "\n",
      "================================================================================================\n",
      "\n",
      "==> SVC\n",
      "  Accuracy  = 0.787692 \n",
      "\n",
      "\n",
      "==> RandomForestClassifier\n",
      "  Cols:  ['volatile_acidity', 'residual_sugar', 'total_sulfur_dioxide', 'density', 'pH', 'sulphates', 'alcohol']\n",
      "  Accuracy  = 0.816154 \n",
      "\n",
      "\n",
      "==> LogisticRegression\n",
      "  Accuracy  = 0.780000 \n",
      "\n",
      "\n",
      "==> GradientBoostingClassifier\n",
      "  Cols:  ['volatile_acidity', 'alcohol']\n",
      "  Accuracy  = 0.776923 \n",
      "\n",
      "\n",
      "==> KNeighborsClassifier\n",
      "  Accuracy  = 0.799231 \n",
      "\n"
     ]
    }
   ],
   "source": [
    "x_train_norm, x_test_norm, y_train_norm, y_test_norm = train_test_split(x_norm, y,\n",
    "                                                                        test_size=0.20, random_state=4)\n",
    "\n",
    "feat_import = True\n",
    "run_ml(modelos, x_train_norm,x_test_norm,y_train_norm,y_test_norm)\n"
   ]
  },
  {
   "cell_type": "code",
   "execution_count": null,
   "metadata": {
    "scrolled": true
   },
   "outputs": [],
   "source": []
  },
  {
   "cell_type": "markdown",
   "metadata": {},
   "source": [
    "### <font color = 'red'>  1.3 - MODELOS (3 CLASSES) COM DADOS NORMALIZADOS E BALANCEADOS </font>\n"
   ]
  },
  {
   "cell_type": "code",
   "execution_count": 63,
   "metadata": {
    "scrolled": true
   },
   "outputs": [
    {
     "name": "stdout",
     "output_type": "stream",
     "text": [
      "\n",
      "==> SVC\n",
      "  Accuracy  = 0.780905 \n",
      "\n",
      "\n",
      "==> RandomForestClassifier\n",
      "  Accuracy  = 0.919263 \n",
      "\n",
      "\n",
      "==> LogisticRegression\n",
      "  Accuracy  = 0.650586 \n",
      "\n",
      "\n",
      "==> GradientBoostingClassifier\n",
      "  Accuracy  = 0.813065 \n",
      "\n",
      "\n",
      "==> KNeighborsClassifier\n",
      "  Accuracy  = 0.872697 \n",
      "\n",
      "================================================================================================\n",
      "\n",
      "==> SVC\n",
      "  Accuracy  = 0.780905 \n",
      "\n",
      "\n",
      "==> RandomForestClassifier\n",
      "  Cols:  ['volatile_acidity', 'chlorides', 'free_sulfur_dioxide', 'total_sulfur_dioxide', 'sulphates', 'alcohol']\n",
      "  Accuracy  = 0.892127 \n",
      "\n",
      "\n",
      "==> LogisticRegression\n",
      "  Accuracy  = 0.650586 \n",
      "\n",
      "\n",
      "==> GradientBoostingClassifier\n",
      "  Cols:  ['volatile_acidity', 'free_sulfur_dioxide', 'sulphates', 'alcohol']\n",
      "  Accuracy  = 0.781575 \n",
      "\n",
      "\n",
      "==> KNeighborsClassifier\n",
      "  Accuracy  = 0.872697 \n",
      "\n"
     ]
    }
   ],
   "source": [
    "data_o_norm, target_o_norm = SMOTE().fit_sample(x_norm,y)\n",
    "\n",
    "data_o_norm   = pd.DataFrame(data_o_norm, columns= x.columns)\n",
    "target_o_norm = pd.DataFrame(target_o_norm, columns= dados_clean.iloc[:,-1:].columns)\n",
    "\n",
    "#data_o.head()\n",
    "x_train_norm_balanc, x_test_norm_balanc, \\\n",
    "y_train_norm_balanc, y_test_norm_balanc = train_test_split(data_o_norm, target_o_norm, \n",
    "                                                    test_size=0.20, random_state=4)\n",
    "\n",
    "feat_import = True\n",
    "run_ml(modelos,x_train_norm_balanc,x_test_norm_balanc,y_train_norm_balanc,y_test_norm_balanc)\n"
   ]
  },
  {
   "cell_type": "code",
   "execution_count": null,
   "metadata": {
    "scrolled": true
   },
   "outputs": [],
   "source": []
  },
  {
   "cell_type": "code",
   "execution_count": null,
   "metadata": {},
   "outputs": [],
   "source": []
  },
  {
   "cell_type": "markdown",
   "metadata": {},
   "source": [
    "# <font color = 'red'> 2 - MODELOS COM 2 CLASSES </font>"
   ]
  },
  {
   "cell_type": "code",
   "execution_count": null,
   "metadata": {},
   "outputs": [],
   "source": [
    "modelos_two = [ SVC(),#C= 10, gamma= 0.001, kernel= 'linear', probability= False),\n",
    "                RandomForestClassifier(),#criterion='entropy', max_depth= None, max_features='sqrt',n_estimators= 10000),\n",
    "                LogisticRegression(),#solver='lbfgs',multi_class='multinomial',class_weight='balanced',random_state=0),\n",
    "                DecisionTreeClassifier(),#max_depth=20, min_samples_split=50), #81.3%\n",
    "                ExtraTreesClassifier(),#n_estimators=10, max_depth=None,min_samples_split=2, random_state=0), #80.6%\n",
    "                GradientBoostingClassifier(),#n_estimators=1000, learning_rate=1.0,max_depth=1, random_state=0),\n",
    "                GaussianNB(),\n",
    "                BernoulliNB(),\n",
    "                KNeighborsClassifier(),#n_neighbors=11),\n",
    "                BaggingClassifier(),#RandomForestClassifier(),max_samples=0.5,max_features=0.5)\n",
    "            ]"
   ]
  },
  {
   "cell_type": "code",
   "execution_count": 64,
   "metadata": {},
   "outputs": [],
   "source": [
    "x_two = x.copy()\n",
    "#x_two.head()"
   ]
  },
  {
   "cell_type": "code",
   "execution_count": null,
   "metadata": {
    "scrolled": true
   },
   "outputs": [],
   "source": []
  },
  {
   "cell_type": "code",
   "execution_count": 84,
   "metadata": {
    "scrolled": true
   },
   "outputs": [
    {
     "data": {
      "text/plain": [
       "<matplotlib.axes._subplots.AxesSubplot at 0x7fb0baa3e7b8>"
      ]
     },
     "execution_count": 84,
     "metadata": {},
     "output_type": "execute_result"
    },
    {
     "data": {
      "image/png": "[encoded data removed]",
      "text/plain": [
       "<Figure size 432x288 with 1 Axes>"
      ]
     },
     "metadata": {
      "needs_background": "light"
     },
     "output_type": "display_data"
    }
   ],
   "source": [
    "#Defining the splits for categories. 1–4 will be poor quality, 5–6 will be average, 7–10 will be great\n",
    "bins = [0, 7, 10]\n",
    "\n",
    "#1 for average, 2 for great quality\n",
    "quality_labels=[0,1]\n",
    "\n",
    "y_two = pd.cut(dados['quality'], bins=bins, labels=quality_labels, include_lowest=True)\n",
    "y_two.hist()"
   ]
  },
  {
   "cell_type": "code",
   "execution_count": null,
   "metadata": {},
   "outputs": [],
   "source": []
  },
  {
   "cell_type": "code",
   "execution_count": 86,
   "metadata": {},
   "outputs": [],
   "source": [
    "x_train_two, x_test_two, y_train_two, y_test_two = train_test_split(x_two,y_two, test_size=0.20, random_state=4)"
   ]
  },
  {
   "cell_type": "code",
   "execution_count": 87,
   "metadata": {},
   "outputs": [],
   "source": [
    "#y_train_two.hist()"
   ]
  },
  {
   "cell_type": "code",
   "execution_count": 88,
   "metadata": {
    "scrolled": true
   },
   "outputs": [],
   "source": [
    "#y_test_two.hist()"
   ]
  },
  {
   "cell_type": "code",
   "execution_count": 89,
   "metadata": {
    "scrolled": true
   },
   "outputs": [
    {
     "name": "stdout",
     "output_type": "stream",
     "text": [
      "\n",
      "==> SVC\n",
      "  Accuracy  = 0.968462 \n",
      "\n",
      "\n",
      "==> RandomForestClassifier\n",
      "  Accuracy  = 0.975385 \n",
      "\n",
      "\n",
      "==> LogisticRegression\n",
      "  Accuracy  = 0.966154 \n",
      "\n",
      "\n",
      "==> DecisionTreeClassifier\n",
      "  Accuracy  = 0.946923 \n",
      "\n",
      "\n",
      "==> ExtraTreesClassifier\n",
      "  Accuracy  = 0.974615 \n",
      "\n",
      "\n",
      "==> GradientBoostingClassifier\n",
      "  Accuracy  = 0.967692 \n",
      "\n",
      "\n",
      "==> GaussianNB\n",
      "  Accuracy  = 0.600000 \n",
      "\n",
      "\n",
      "==> BernoulliNB\n",
      "  Accuracy  = 0.966154 \n",
      "\n",
      "\n",
      "==> MultinomialNB\n",
      "  Accuracy  = 0.961538 \n",
      "\n",
      "\n",
      "==> KNeighborsClassifier\n",
      "  Accuracy  = 0.963077 \n",
      "\n",
      "\n",
      "==> BaggingClassifier\n",
      "  Accuracy  = 0.971538 \n",
      "\n",
      "================================================================================================\n",
      "\n",
      "==> SVC\n",
      "  Accuracy  = 0.968462 \n",
      "\n",
      "\n",
      "==> RandomForestClassifier\n",
      "  Cols:  ['fixed_acidity', 'volatile_acidity', 'residual_sugar', 'free_sulfur_dioxide', 'total_sulfur_dioxide', 'density', 'sulphates', 'alcohol']\n",
      "  Accuracy  = 0.971538 \n",
      "\n",
      "\n",
      "==> LogisticRegression\n",
      "  Accuracy  = 0.966154 \n",
      "\n",
      "\n",
      "==> DecisionTreeClassifier\n",
      "  Cols:  ['fixed_acidity', 'volatile_acidity', 'residual_sugar', 'total_sulfur_dioxide', 'pH', 'sulphates', 'alcohol']\n",
      "  Accuracy  = 0.947692 \n",
      "\n",
      "\n",
      "==> ExtraTreesClassifier\n",
      "  Cols:  ['fixed_acidity', 'volatile_acidity', 'citric_acid', 'residual_sugar', 'free_sulfur_dioxide', 'total_sulfur_dioxide', 'density', 'sulphates', 'alcohol']\n",
      "  Accuracy  = 0.973846 \n",
      "\n",
      "\n",
      "==> GradientBoostingClassifier\n",
      "  Cols:  ['volatile_acidity', 'residual_sugar', 'density', 'pH', 'alcohol']\n",
      "  Accuracy  = 0.967692 \n",
      "\n",
      "\n",
      "==> GaussianNB\n",
      "  Accuracy  = 0.600000 \n",
      "\n",
      "\n",
      "==> BernoulliNB\n",
      "  Accuracy  = 0.966154 \n",
      "\n",
      "\n",
      "==> MultinomialNB\n",
      "  Accuracy  = 0.961538 \n",
      "\n",
      "\n",
      "==> KNeighborsClassifier\n",
      "  Accuracy  = 0.963077 \n",
      "\n",
      "\n",
      "==> BaggingClassifier\n",
      "  Accuracy  = 0.973846 \n",
      "\n"
     ]
    }
   ],
   "source": [
    "#plotAuc = True\n",
    "#plotCm = False\n",
    "\n",
    "feat_import = True\n",
    "run_ml(modelos_two, x_train_two,x_test_two,y_train_two,y_test_two)\n"
   ]
  },
  {
   "cell_type": "code",
   "execution_count": null,
   "metadata": {},
   "outputs": [],
   "source": []
  },
  {
   "cell_type": "markdown",
   "metadata": {},
   "source": [
    "### <font color = 'red'>  2.1 - MODELOS PARA 2 CLASSES COM DADOS BALANCEADOS </font>"
   ]
  },
  {
   "cell_type": "code",
   "execution_count": 90,
   "metadata": {
    "scrolled": true
   },
   "outputs": [],
   "source": [
    "from imblearn.over_sampling import SMOTE, ADASYN\n",
    "data_o_two, target_o_two = SMOTE().fit_sample(x_two,y_two)\n",
    "\n",
    "data_o_two   = pd.DataFrame(data_o_two, columns= x_two.columns)\n",
    "target_o_two = pd.DataFrame(target_o_two, columns= ['class']  )\n"
   ]
  },
  {
   "cell_type": "code",
   "execution_count": 91,
   "metadata": {},
   "outputs": [
    {
     "data": {
      "text/plain": [
       "array([[<matplotlib.axes._subplots.AxesSubplot object at 0x7fb0b86dda20>]],\n",
       "      dtype=object)"
      ]
     },
     "execution_count": 91,
     "metadata": {},
     "output_type": "execute_result"
    },
    {
     "data": {
      "image/png": "[encoded data removed]",
      "text/plain": [
       "<Figure size 432x288 with 1 Axes>"
      ]
     },
     "metadata": {
      "needs_background": "light"
     },
     "output_type": "display_data"
    }
   ],
   "source": [
    "target_o_two.hist()"
   ]
  },
  {
   "cell_type": "code",
   "execution_count": 92,
   "metadata": {},
   "outputs": [],
   "source": [
    "x_train_two_bal, x_test_two_bal, y_train_two_bal, y_test_two_bal = \\\n",
    "                                                    train_test_split(data_o_two,target_o_two, \n",
    "                                                                     test_size=0.20, random_state=4)\n",
    "\n"
   ]
  },
  {
   "cell_type": "code",
   "execution_count": 93,
   "metadata": {
    "scrolled": true
   },
   "outputs": [
    {
     "name": "stdout",
     "output_type": "stream",
     "text": [
      "\n",
      "==> SVC\n",
      "  Accuracy  = 0.952381 \n",
      "\n",
      "\n",
      "==> RandomForestClassifier\n",
      "  Accuracy  = 0.976984 \n",
      "\n",
      "\n",
      "==> LogisticRegression\n",
      "  Accuracy  = 0.749206 \n",
      "\n",
      "\n",
      "==> DecisionTreeClassifier\n",
      "  Accuracy  = 0.951190 \n",
      "\n",
      "\n",
      "==> ExtraTreesClassifier\n",
      "  Accuracy  = 0.979762 \n",
      "\n",
      "\n",
      "==> GradientBoostingClassifier\n",
      "  Accuracy  = 0.902381 \n",
      "\n",
      "\n",
      "==> GaussianNB\n",
      "  Accuracy  = 0.611111 \n",
      "\n",
      "\n",
      "==> BernoulliNB\n",
      "  Accuracy  = 0.587698 \n",
      "\n",
      "\n",
      "==> MultinomialNB\n",
      "  Accuracy  = 0.614683 \n",
      "\n",
      "\n",
      "==> KNeighborsClassifier\n",
      "  Accuracy  = 0.909127 \n",
      "\n",
      "\n",
      "==> BaggingClassifier\n",
      "  Accuracy  = 0.969841 \n",
      "\n",
      "================================================================================================\n",
      "\n",
      "==> SVC\n",
      "  Accuracy  = 0.952381 \n",
      "\n",
      "\n",
      "==> RandomForestClassifier\n",
      "  Cols:  ['residual_sugar', 'chlorides', 'total_sulfur_dioxide', 'density', 'alcohol']\n",
      "  Accuracy  = 0.958333 \n",
      "\n",
      "\n",
      "==> LogisticRegression\n",
      "  Accuracy  = 0.749206 \n",
      "\n",
      "\n",
      "==> DecisionTreeClassifier\n",
      "  Cols:  ['volatile_acidity', 'free_sulfur_dioxide', 'total_sulfur_dioxide', 'alcohol']\n",
      "  Accuracy  = 0.952381 \n",
      "\n",
      "\n",
      "==> ExtraTreesClassifier\n",
      "  Cols:  ['total_sulfur_dioxide', 'alcohol']\n",
      "  Accuracy  = 0.937302 \n",
      "\n",
      "\n",
      "==> GradientBoostingClassifier\n",
      "  Cols:  ['volatile_acidity', 'alcohol']\n",
      "  Accuracy  = 0.879762 \n",
      "\n",
      "\n",
      "==> GaussianNB\n",
      "  Accuracy  = 0.611111 \n",
      "\n",
      "\n",
      "==> BernoulliNB\n",
      "  Accuracy  = 0.587698 \n",
      "\n",
      "\n",
      "==> MultinomialNB\n",
      "  Accuracy  = 0.614683 \n",
      "\n",
      "\n",
      "==> KNeighborsClassifier\n",
      "  Accuracy  = 0.909127 \n",
      "\n",
      "\n",
      "==> BaggingClassifier\n",
      "  Accuracy  = 0.972619 \n",
      "\n"
     ]
    }
   ],
   "source": [
    "#plotAuc = True\n",
    "#plotCm = True\n",
    "feat_import = True\n",
    "run_ml(modelos_two, x_train_two_bal,x_test_two_bal,y_train_two_bal,y_test_two_bal)"
   ]
  },
  {
   "cell_type": "code",
   "execution_count": null,
   "metadata": {},
   "outputs": [],
   "source": []
  },
  {
   "cell_type": "markdown",
   "metadata": {},
   "source": [
    "### <font color = 'red'>  2.2 - MODELOS PARA 2 CLASSES COM DADOS NORM E BALANCEADOS </font>\n"
   ]
  },
  {
   "cell_type": "code",
   "execution_count": 94,
   "metadata": {},
   "outputs": [],
   "source": [
    "data_o_two_norm, target_o_two_norm = SMOTE().fit_sample(x_norm,y_two)\n",
    "\n",
    "data_o_two_norm   = pd.DataFrame(data_o_two_norm, columns= x.columns)\n",
    "target_o_two_norm = pd.DataFrame(target_o_two_norm, columns= [\"quality\"])\n",
    "\n",
    "#data_o.head()\n",
    "x_train_two_norm_balanc, x_test_two_norm_balanc, \\\n",
    "y_train_two_norm_balanc, y_test_two_norm_balanc = train_test_split(data_o_two_norm, target_o_two_norm, \n",
    "                                                    test_size=0.20, random_state=4)\n",
    "\n"
   ]
  },
  {
   "cell_type": "code",
   "execution_count": 95,
   "metadata": {
    "scrolled": true
   },
   "outputs": [
    {
     "name": "stdout",
     "output_type": "stream",
     "text": [
      "\n",
      "==> SVC\n",
      "  Accuracy  = 0.892857 \n",
      "\n",
      "\n",
      "==> RandomForestClassifier\n",
      "  Accuracy  = 0.983333 \n",
      "\n",
      "\n",
      "==> LogisticRegression\n",
      "  Accuracy  = 0.745635 \n",
      "\n",
      "\n",
      "==> DecisionTreeClassifier\n",
      "  Accuracy  = 0.954365 \n",
      "\n",
      "\n",
      "==> ExtraTreesClassifier\n",
      "  Accuracy  = 0.984524 \n",
      "\n",
      "\n",
      "==> GradientBoostingClassifier\n",
      "  Accuracy  = 0.909524 \n",
      "\n",
      "\n",
      "==> GaussianNB\n",
      "  Accuracy  = 0.614683 \n",
      "\n",
      "\n",
      "==> BernoulliNB\n",
      "  Accuracy  = 0.728968 \n",
      "\n",
      "\n",
      "==> KNeighborsClassifier\n",
      "  Accuracy  = 0.940873 \n",
      "\n",
      "\n",
      "==> BaggingClassifier\n",
      "  Accuracy  = 0.976190 \n",
      "\n",
      "================================================================================================\n",
      "\n",
      "==> SVC\n",
      "  Accuracy  = 0.892857 \n",
      "\n",
      "\n",
      "==> RandomForestClassifier\n",
      "  Cols:  ['volatile_acidity', 'citric_acid', 'chlorides', 'density', 'alcohol']\n",
      "  Accuracy  = 0.965079 \n",
      "\n",
      "\n",
      "==> LogisticRegression\n",
      "  Accuracy  = 0.745635 \n",
      "\n",
      "\n",
      "==> DecisionTreeClassifier\n",
      "  Cols:  ['volatile_acidity', 'citric_acid', 'alcohol']\n",
      "  Accuracy  = 0.950397 \n",
      "\n",
      "\n",
      "==> ExtraTreesClassifier\n",
      "  Cols:  ['residual_sugar', 'chlorides', 'total_sulfur_dioxide', 'pH', 'alcohol']\n",
      "  Accuracy  = 0.969048 \n",
      "\n",
      "\n",
      "==> GradientBoostingClassifier\n",
      "  Cols:  ['volatile_acidity', 'citric_acid', 'alcohol']\n",
      "  Accuracy  = 0.875397 \n",
      "\n",
      "\n",
      "==> GaussianNB\n",
      "  Accuracy  = 0.614683 \n",
      "\n",
      "\n",
      "==> BernoulliNB\n",
      "  Accuracy  = 0.728968 \n",
      "\n",
      "\n",
      "==> KNeighborsClassifier\n",
      "  Accuracy  = 0.940873 \n",
      "\n",
      "\n",
      "==> BaggingClassifier\n",
      "  Accuracy  = 0.972222 \n",
      "\n"
     ]
    }
   ],
   "source": [
    "feat_import = True\n",
    "run_ml(modelos_two, x_train_two_norm_balanc,x_test_two_norm_balanc,\n",
    "       y_train_two_norm_balanc,y_test_two_norm_balanc)\n"
   ]
  },
  {
   "cell_type": "code",
   "execution_count": 96,
   "metadata": {
    "scrolled": true
   },
   "outputs": [
    {
     "name": "stdout",
     "output_type": "stream",
     "text": [
      "\n",
      "==> SVC\n",
      "  Accuracy  = 0.897619 \n",
      "\n",
      "\n",
      "==> RandomForestClassifier\n",
      "  Accuracy  = 0.981349 \n",
      "\n",
      "\n",
      "==> LogisticRegression\n",
      "  Accuracy  = 0.740873 \n",
      "\n",
      "\n",
      "==> DecisionTreeClassifier\n",
      "  Accuracy  = 0.957540 \n",
      "\n",
      "\n",
      "==> ExtraTreesClassifier\n",
      "  Accuracy  = 0.983730 \n",
      "\n",
      "\n",
      "==> GradientBoostingClassifier\n",
      "  Accuracy  = 0.909921 \n",
      "\n",
      "\n",
      "==> GaussianNB\n",
      "  Accuracy  = 0.620635 \n",
      "\n",
      "\n",
      "==> BernoulliNB\n",
      "  Accuracy  = 0.724603 \n",
      "\n",
      "\n",
      "==> KNeighborsClassifier\n",
      "  Accuracy  = 0.941270 \n",
      "\n",
      "\n",
      "==> BaggingClassifier\n",
      "  Accuracy  = 0.975397 \n",
      "\n",
      "================================================================================================\n",
      "\n",
      "==> SVC\n",
      "  Accuracy  = 0.897619 \n",
      "\n",
      "\n",
      "==> RandomForestClassifier\n",
      "  Cols:  ['chlorides', 'density', 'alcohol']\n",
      "  Accuracy  = 0.950794 \n",
      "\n",
      "\n",
      "==> LogisticRegression\n",
      "  Accuracy  = 0.740873 \n",
      "\n",
      "\n",
      "==> DecisionTreeClassifier\n",
      "  Cols:  ['volatile_acidity', 'alcohol']\n",
      "  Accuracy  = 0.961905 \n",
      "\n",
      "\n",
      "==> ExtraTreesClassifier\n",
      "  Cols:  ['chlorides', 'alcohol']\n",
      "  Accuracy  = 0.942063 \n",
      "\n",
      "\n",
      "==> GradientBoostingClassifier\n",
      "  Cols:  ['volatile_acidity', 'alcohol']\n",
      "  Accuracy  = 0.880952 \n",
      "\n",
      "\n",
      "==> GaussianNB\n",
      "  Accuracy  = 0.620635 \n",
      "\n",
      "\n",
      "==> BernoulliNB\n",
      "  Accuracy  = 0.724603 \n",
      "\n",
      "\n",
      "==> KNeighborsClassifier\n",
      "  Accuracy  = 0.941270 \n",
      "\n",
      "\n",
      "==> BaggingClassifier\n",
      "  Accuracy  = 0.975794 \n",
      "\n"
     ]
    }
   ],
   "source": [
    "## EXECUÇÃO SEM A COLUNA TYPE\n",
    "run_ml(modelos_two, x_train_two_norm_balanc.iloc[:,1:],x_test_two_norm_balanc.iloc[:,1:],\n",
    "       y_train_two_norm_balanc,y_test_two_norm_balanc)\n"
   ]
  },
  {
   "cell_type": "markdown",
   "metadata": {},
   "source": [
    "# <font color = 'red'>  MODELO FINAL ExtraTreesClassifier </font>\n"
   ]
  },
  {
   "cell_type": "code",
   "execution_count": 100,
   "metadata": {},
   "outputs": [
    {
     "name": "stdout",
     "output_type": "stream",
     "text": [
      "\n",
      "ACC:  0.9730769230769231\n",
      "\n",
      "CV:  0.9801815166589998\n",
      "\n",
      "Confusion Matrix Stats\n",
      "0/0: 99.76% (1253/1256)\n",
      "0/1: 0.24% (3/1256)\n",
      "1/0: 72.73% (32/44)\n",
      "1/1: 27.27% (12/44)\n"
     ]
    },
    {
     "data": {
      "image/png": "[encoded data removed]",
      "text/plain": [
       "<Figure size 432x288 with 2 Axes>"
      ]
     },
     "metadata": {
      "needs_background": "light"
     },
     "output_type": "display_data"
    },
    {
     "data": {
      "image/png": "[encoded data removed]",
      "text/plain": [
       "<Figure size 432x288 with 1 Axes>"
      ]
     },
     "metadata": {
      "needs_background": "light"
     },
     "output_type": "display_data"
    },
    {
     "name": "stdout",
     "output_type": "stream",
     "text": [
      "PRECISION:  0.8\n",
      "RECALL:  0.2727272727272727\n",
      "FSCORE:  0.4067796610169491\n"
     ]
    }
   ],
   "source": [
    "x_treino = x_train_two\n",
    "x_teste  = x_test_two\n",
    "y_treino = y_train_two\n",
    "y_teste  = y_test_two\n",
    "\n",
    "et = ExtraTreesClassifier()\n",
    "et.fit(x_treino,y_treino)\n",
    "\n",
    "preds = et.predict(x_teste)\n",
    "print(\"\\nACC: \",accuracy_score(y_pred=preds,y_true=y_teste) )\n",
    "\n",
    "#print(\"\\nMET: \\n\",metrics.classification_report(y_true=y_teste,y_pred=preds) )\n",
    "\n",
    "etc_eval = cross_val_score(estimator = et, X = x_treino, y = y_treino, cv = 10)\n",
    "print(\"\\nCV: \",etc_eval.mean())\n",
    "print()\n",
    "\n",
    "labels = list(np.unique(y_treino)) #[0,1]\n",
    "cm     = confusion_matrix(y_teste, preds,labels=labels)\n",
    "plot_cm(cm, labels)\n",
    "\n",
    "plot_auc_curve(et, x_teste, y_teste)\n",
    "\n",
    "\n",
    "print(\"PRECISION: \", metrics.precision_score(y_pred=preds, y_true=y_teste))#, average='binary'))\n",
    "print(\"RECALL: \", metrics.recall_score(y_pred=preds, y_true=y_teste))#, average='binary'))\n",
    "print(\"FSCORE: \", metrics.f1_score(y_pred=preds, y_true=y_teste))#, average='binary'))\n",
    "\n",
    "#print( metrics.precision_recall_fscore_support(y_true=y_teste, y_pred=preds, average='binary') )\n"
   ]
  },
  {
   "cell_type": "code",
   "execution_count": null,
   "metadata": {},
   "outputs": [],
   "source": []
  },
  {
   "cell_type": "code",
   "execution_count": 101,
   "metadata": {},
   "outputs": [
    {
     "name": "stdout",
     "output_type": "stream",
     "text": [
      "\n",
      "ACC:  0.9817460317460317\n",
      "\n",
      "CV:  0.9795595513942089\n",
      "\n",
      "Confusion Matrix Stats\n",
      "0/0: 97.37% (1257/1291)\n",
      "0/1: 2.63% (34/1291)\n",
      "1/0: 0.98% (12/1229)\n",
      "1/1: 99.02% (1217/1229)\n"
     ]
    },
    {
     "data": {
      "image/png": "[encoded data removed]",
      "text/plain": [
       "<Figure size 432x288 with 2 Axes>"
      ]
     },
     "metadata": {
      "needs_background": "light"
     },
     "output_type": "display_data"
    },
    {
     "data": {
      "image/png": "[encoded data removed]",
      "text/plain": [
       "<Figure size 432x288 with 1 Axes>"
      ]
     },
     "metadata": {
      "needs_background": "light"
     },
     "output_type": "display_data"
    },
    {
     "name": "stdout",
     "output_type": "stream",
     "text": [
      "PRECISION:  0.9728217426059153\n",
      "RECALL:  0.9902359641985354\n",
      "FSCORE:  0.9814516129032259\n"
     ]
    }
   ],
   "source": [
    "x_treino = x_train_two_bal\n",
    "x_teste  = x_test_two_bal\n",
    "y_treino = y_train_two_bal\n",
    "y_teste  = y_test_two_bal\n",
    "\n",
    "et = ExtraTreesClassifier()\n",
    "et.fit(x_treino,y_treino)\n",
    "\n",
    "preds = et.predict(x_teste)\n",
    "print(\"\\nACC: \",accuracy_score(y_pred=preds,y_true=y_teste) )\n",
    "#print(\"\\nMET: \\n\",metrics.classification_report(y_pred=preds,y_true=y_teste) )\n",
    "\n",
    "etc_eval = cross_val_score(estimator = et, X = x_treino, y = y_treino, cv = 10)\n",
    "print(\"\\nCV: \",etc_eval.mean())\n",
    "print()\n",
    "\n",
    "labels = list(np.unique(y_treino)) #[0,1]\n",
    "cm     = confusion_matrix(y_teste, preds,labels=labels)\n",
    "plot_cm(cm, labels)\n",
    "\n",
    "plot_auc_curve(et, x_teste, y_teste)\n",
    "\n",
    "print(\"PRECISION: \", metrics.precision_score(y_pred=preds, y_true=y_teste))#, average='binary'))\n",
    "print(\"RECALL: \", metrics.recall_score(y_pred=preds, y_true=y_teste))#, average='binary'))\n",
    "print(\"FSCORE: \", metrics.f1_score(y_pred=preds, y_true=y_teste))#, average='binary'))\n",
    "\n",
    "#print( metrics.precision_recall_fscore_support(y_true=y_teste, y_pred=preds, average='binary') )\n"
   ]
  },
  {
   "cell_type": "code",
   "execution_count": null,
   "metadata": {},
   "outputs": [],
   "source": []
  },
  {
   "cell_type": "code",
   "execution_count": 113,
   "metadata": {},
   "outputs": [],
   "source": []
  },
  {
   "cell_type": "code",
   "execution_count": 117,
   "metadata": {},
   "outputs": [
    {
     "name": "stdout",
     "output_type": "stream",
     "text": [
      "\n",
      "ACC:  0.9853174603174604\n",
      "\n",
      "CV:  0.9877960037199403\n",
      "\n",
      "Confusion Matrix Stats\n",
      "0/0: 98.14% (1267/1291)\n",
      "0/1: 1.86% (24/1291)\n",
      "1/0: 1.06% (13/1229)\n",
      "1/1: 98.94% (1216/1229)\n"
     ]
    },
    {
     "data": {
      "image/png": "[encoded data removed]",
      "text/plain": [
       "<Figure size 432x288 with 2 Axes>"
      ]
     },
     "metadata": {
      "needs_background": "light"
     },
     "output_type": "display_data"
    },
    {
     "data": {
      "image/png": "[encoded data removed]",
      "text/plain": [
       "<Figure size 432x288 with 1 Axes>"
      ]
     },
     "metadata": {
      "needs_background": "light"
     },
     "output_type": "display_data"
    },
    {
     "name": "stdout",
     "output_type": "stream",
     "text": [
      "PRECISION:  0.9806451612903225\n",
      "RECALL:  0.9894222945484134\n",
      "FSCORE:  0.9850141757796679\n"
     ]
    }
   ],
   "source": [
    "x_treino = x_train_two_norm_balanc\n",
    "x_teste  = x_test_two_norm_balanc\n",
    "y_treino = y_train_two_norm_balanc\n",
    "y_teste  = y_test_two_norm_balanc\n",
    "\n",
    "et = ExtraTreesClassifier()\n",
    "et.fit(x_treino,y_treino)\n",
    "\n",
    "preds = et.predict(x_teste)\n",
    "print(\"\\nACC: \",accuracy_score(y_pred=preds,y_true=y_teste) )\n",
    "#print(\"\\nMET: \\n\",metrics.classification_report(y_pred=preds,y_true=y_teste) )\n",
    "\n",
    "etc_eval = cross_val_score(estimator = et, X = x_treino, y = y_treino, cv = 20)\n",
    "print(\"\\nCV: \",etc_eval.mean())\n",
    "print()\n",
    "\n",
    "labels = list(np.unique(y_treino)) #[0,1]\n",
    "cm     = confusion_matrix(y_teste, preds,labels=labels)\n",
    "plot_cm(cm, labels)\n",
    "\n",
    "plot_auc_curve(et, x_teste, y_teste)\n",
    "\n",
    "print(\"PRECISION: \", metrics.precision_score(y_pred=preds, y_true=y_teste))#, average='binary'))\n",
    "print(\"RECALL: \", metrics.recall_score(y_pred=preds, y_true=y_teste))#, average='binary'))\n",
    "print(\"FSCORE: \", metrics.f1_score(y_pred=preds, y_true=y_teste))#, average='binary'))\n",
    "\n",
    "#print( metrics.precision_recall_fscore_support(y_true=y_teste, y_pred=preds, average='binary') )\n"
   ]
  },
  {
   "cell_type": "code",
   "execution_count": null,
   "metadata": {},
   "outputs": [],
   "source": []
  },
  {
   "cell_type": "code",
   "execution_count": null,
   "metadata": {},
   "outputs": [],
   "source": []
  },
  {
   "cell_type": "code",
   "execution_count": null,
   "metadata": {},
   "outputs": [],
   "source": []
  },
  {
   "cell_type": "markdown",
   "metadata": {},
   "source": [
    "# <font color = 'red'>  MODELO FINAL RF </font>\n"
   ]
  },
  {
   "cell_type": "code",
   "execution_count": 106,
   "metadata": {
    "scrolled": false
   },
   "outputs": [
    {
     "name": "stdout",
     "output_type": "stream",
     "text": [
      "\n",
      "ACC:  0.9723076923076923\n",
      "\n",
      "CV:  0.9786404599527707\n",
      "\n",
      "Confusion Matrix Stats\n",
      "0/0: 99.84% (1254/1256)\n",
      "0/1: 0.16% (2/1256)\n",
      "1/0: 77.27% (34/44)\n",
      "1/1: 22.73% (10/44)\n"
     ]
    },
    {
     "data": {
      "image/png": "[encoded data removed]",
      "text/plain": [
       "<Figure size 432x288 with 2 Axes>"
      ]
     },
     "metadata": {
      "needs_background": "light"
     },
     "output_type": "display_data"
    },
    {
     "data": {
      "image/png": "[encoded data removed]",
      "text/plain": [
       "<Figure size 432x288 with 1 Axes>"
      ]
     },
     "metadata": {
      "needs_background": "light"
     },
     "output_type": "display_data"
    },
    {
     "name": "stdout",
     "output_type": "stream",
     "text": [
      "PRECISION:  0.8333333333333334\n",
      "RECALL:  0.22727272727272727\n",
      "FSCORE:  0.35714285714285715\n"
     ]
    }
   ],
   "source": [
    "x_treino = x_train_two\n",
    "x_teste  = x_test_two\n",
    "y_treino = y_train_two\n",
    "y_teste  = y_test_two\n",
    "\n",
    "rf = RandomForestClassifier()\n",
    "rf.fit(x_treino,y_treino)\n",
    "\n",
    "preds = rf.predict(x_teste)\n",
    "print(\"\\nACC: \",accuracy_score(y_pred=preds,y_true=y_teste) )\n",
    "\n",
    "#print(\"\\nMET: \\n\",metrics.classification_report(y_true=y_teste,y_pred=preds) )\n",
    "\n",
    "rfc_eval = cross_val_score(estimator = rf, X = x_treino, y = y_treino, cv = 10)\n",
    "print(\"\\nCV: \",rfc_eval.mean())\n",
    "print()\n",
    "\n",
    "labels = list(np.unique(y_treino)) #[0,1]\n",
    "cm     = confusion_matrix(y_teste, preds,labels=labels)\n",
    "plot_cm(cm, labels)\n",
    "\n",
    "plot_auc_curve(rf, x_teste, y_teste)\n",
    "\n",
    "\n",
    "print(\"PRECISION: \", metrics.precision_score(y_pred=preds, y_true=y_teste))#, average='binary'))\n",
    "print(\"RECALL: \", metrics.recall_score(y_pred=preds, y_true=y_teste))#, average='binary'))\n",
    "print(\"FSCORE: \", metrics.f1_score(y_pred=preds, y_true=y_teste))#, average='binary'))\n",
    "\n",
    "#print( metrics.precision_recall_fscore_support(y_true=y_teste, y_pred=preds, average='binary') )\n"
   ]
  },
  {
   "cell_type": "code",
   "execution_count": null,
   "metadata": {},
   "outputs": [],
   "source": []
  },
  {
   "cell_type": "code",
   "execution_count": null,
   "metadata": {},
   "outputs": [],
   "source": []
  },
  {
   "cell_type": "code",
   "execution_count": 104,
   "metadata": {
    "scrolled": false
   },
   "outputs": [
    {
     "name": "stdout",
     "output_type": "stream",
     "text": [
      "\n",
      "ACC:  0.9753968253968254\n",
      "\n",
      "CV:  0.976682961334153\n",
      "\n",
      "Confusion Matrix Stats\n",
      "0/0: 97.68% (1261/1291)\n",
      "0/1: 2.32% (30/1291)\n",
      "1/0: 2.60% (32/1229)\n",
      "1/1: 97.40% (1197/1229)\n"
     ]
    },
    {
     "data": {
      "image/png": "[encoded data removed]",
      "text/plain": [
       "<Figure size 432x288 with 2 Axes>"
      ]
     },
     "metadata": {
      "needs_background": "light"
     },
     "output_type": "display_data"
    },
    {
     "data": {
      "image/png": "[encoded data removed]",
      "text/plain": [
       "<Figure size 432x288 with 1 Axes>"
      ]
     },
     "metadata": {
      "needs_background": "light"
     },
     "output_type": "display_data"
    },
    {
     "name": "stdout",
     "output_type": "stream",
     "text": [
      "PRECISION:  0.9755501222493888\n",
      "RECALL:  0.9739625711960944\n",
      "FSCORE:  0.9747557003257329\n"
     ]
    }
   ],
   "source": [
    "x_treino = x_train_two_bal\n",
    "x_teste  = x_test_two_bal\n",
    "y_treino = y_train_two_bal\n",
    "y_teste  = y_test_two_bal\n",
    "\n",
    "rf = RandomForestClassifier()\n",
    "rf.fit(x_treino,y_treino)\n",
    "\n",
    "preds = rf.predict(x_teste)\n",
    "print(\"\\nACC: \",accuracy_score(y_pred=preds,y_true=y_teste) )\n",
    "#print(\"\\nMET: \\n\",metrics.classification_report(y_pred=preds,y_true=y_teste) )\n",
    "\n",
    "rfc_eval = cross_val_score(estimator = rf, X = x_treino, y = y_treino, cv = 10)\n",
    "print(\"\\nCV: \",rfc_eval.mean())\n",
    "print()\n",
    "\n",
    "labels = list(np.unique(y_treino)) #[0,1]\n",
    "cm     = confusion_matrix(y_teste, preds,labels=labels)\n",
    "plot_cm(cm, labels)\n",
    "\n",
    "plot_auc_curve(rf, x_teste, y_teste)\n",
    "\n",
    "print(\"PRECISION: \", metrics.precision_score(y_pred=preds, y_true=y_teste))#, average='binary'))\n",
    "print(\"RECALL: \", metrics.recall_score(y_pred=preds, y_true=y_teste))#, average='binary'))\n",
    "print(\"FSCORE: \", metrics.f1_score(y_pred=preds, y_true=y_teste))#, average='binary'))\n",
    "\n",
    "#print( metrics.precision_recall_fscore_support(y_true=y_teste, y_pred=preds, average='binary') )\n"
   ]
  },
  {
   "cell_type": "code",
   "execution_count": 105,
   "metadata": {},
   "outputs": [
    {
     "name": "stdout",
     "output_type": "stream",
     "text": [
      "\n",
      "ACC:  0.9805555555555555\n",
      "\n",
      "CV:  0.9795628300759642\n",
      "\n",
      "Confusion Matrix Stats\n",
      "0/0: 97.44% (1258/1291)\n",
      "0/1: 2.56% (33/1291)\n",
      "1/0: 1.30% (16/1229)\n",
      "1/1: 98.70% (1213/1229)\n"
     ]
    },
    {
     "data": {
      "image/png": "[encoded data removed]",
      "text/plain": [
       "<Figure size 432x288 with 2 Axes>"
      ]
     },
     "metadata": {
      "needs_background": "light"
     },
     "output_type": "display_data"
    },
    {
     "data": {
      "image/png": "[encoded data removed]",
      "text/plain": [
       "<Figure size 432x288 with 1 Axes>"
      ]
     },
     "metadata": {
      "needs_background": "light"
     },
     "output_type": "display_data"
    },
    {
     "name": "stdout",
     "output_type": "stream",
     "text": [
      "PRECISION:  0.9735152487961477\n",
      "RECALL:  0.9869812855980472\n",
      "FSCORE:  0.9802020202020202\n"
     ]
    }
   ],
   "source": [
    "x_treino = x_train_two_norm_balanc\n",
    "x_teste  = x_test_two_norm_balanc\n",
    "y_treino = y_train_two_norm_balanc\n",
    "y_teste  = y_test_two_norm_balanc\n",
    "\n",
    "rf = RandomForestClassifier()\n",
    "rf.fit(x_treino,y_treino)\n",
    "\n",
    "preds = rf.predict(x_teste)\n",
    "print(\"\\nACC: \",accuracy_score(y_pred=preds,y_true=y_teste) )\n",
    "#print(\"\\nMET: \\n\",metrics.classification_report(y_pred=preds,y_true=y_teste) )\n",
    "\n",
    "rfc_eval = cross_val_score(estimator = rf, X = x_treino, y = y_treino, cv = 20)\n",
    "print(\"\\nCV: \",rfc_eval.mean())\n",
    "print()\n",
    "\n",
    "labels = list(np.unique(y_treino)) #[0,1]\n",
    "cm     = confusion_matrix(y_teste, preds,labels=labels)\n",
    "plot_cm(cm, labels)\n",
    "\n",
    "plot_auc_curve(rf, x_teste, y_teste)\n",
    "\n",
    "print(\"PRECISION: \", metrics.precision_score(y_pred=preds, y_true=y_teste))#, average='binary'))\n",
    "print(\"RECALL: \", metrics.recall_score(y_pred=preds, y_true=y_teste))#, average='binary'))\n",
    "print(\"FSCORE: \", metrics.f1_score(y_pred=preds, y_true=y_teste))#, average='binary'))\n",
    "\n",
    "#print( metrics.precision_recall_fscore_support(y_true=y_teste, y_pred=preds, average='binary') )\n"
   ]
  },
  {
   "cell_type": "code",
   "execution_count": null,
   "metadata": {},
   "outputs": [],
   "source": []
  },
  {
   "cell_type": "code",
   "execution_count": null,
   "metadata": {},
   "outputs": [],
   "source": []
  },
  {
   "cell_type": "code",
   "execution_count": null,
   "metadata": {},
   "outputs": [],
   "source": []
  }
 ],
 "metadata": {
  "kernelspec": {
   "display_name": "Python 3",
   "language": "python",
   "name": "python3"
  },
  "language_info": {
   "codemirror_mode": {
    "name": "ipython",
    "version": 3
   },
   "file_extension": ".py",
   "mimetype": "text/x-python",
   "name": "python",
   "nbconvert_exporter": "python",
   "pygments_lexer": "ipython3",
   "version": "3.4.9"
  }
 },
 "nbformat": 4,
 "nbformat_minor": 2
}
